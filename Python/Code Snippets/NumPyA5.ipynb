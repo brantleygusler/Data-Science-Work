{
 "cells": [
  {
   "cell_type": "code",
   "execution_count": 66,
   "id": "224f60bc",
   "metadata": {},
   "outputs": [],
   "source": [
    "import numpy as np"
   ]
  },
  {
   "cell_type": "code",
   "execution_count": 95,
   "id": "a771e950",
   "metadata": {},
   "outputs": [],
   "source": [
    "np.random.seed(5)\n",
    "p=np.random.randint(15, size =(20))"
   ]
  },
  {
   "cell_type": "code",
   "execution_count": 96,
   "id": "f00fce79",
   "metadata": {},
   "outputs": [],
   "source": [
    "Q1=p[4]"
   ]
  },
  {
   "cell_type": "code",
   "execution_count": 97,
   "id": "acbe65ef",
   "metadata": {},
   "outputs": [],
   "source": [
    "Q2=p[8:]"
   ]
  },
  {
   "cell_type": "code",
   "execution_count": 98,
   "id": "ec48c847",
   "metadata": {},
   "outputs": [],
   "source": [
    "Q3=p[1:18:2]"
   ]
  },
  {
   "cell_type": "code",
   "execution_count": 232,
   "id": "3efc27d8",
   "metadata": {},
   "outputs": [
    {
     "name": "stdout",
     "output_type": "stream",
     "text": [
      "[[10  9  3  4 10 13 10  0]\n",
      " [14  9  1 11 13  9 10  1]\n",
      " [12 14  4  1  8  2 12  4]\n",
      " [11  2  5 13 10  9  6  2]\n",
      " [11  5  5  1  4  5 14  0]\n",
      " [ 2  2  3  5 12 12 11  9]\n",
      " [ 5  2 10 14  7  8  5  6]]\n"
     ]
    }
   ],
   "source": [
    "np.random.seed(6)\n",
    "x=np.random.randint(15, size =(7, 8))\n",
    "print(x)"
   ]
  },
  {
   "cell_type": "code",
   "execution_count": 230,
   "id": "6cd42fff",
   "metadata": {},
   "outputs": [
    {
     "name": "stdout",
     "output_type": "stream",
     "text": [
      "5\n"
     ]
    }
   ],
   "source": [
    "Q4=x[5,3]\n",
    "print(Q4)"
   ]
  },
  {
   "cell_type": "code",
   "execution_count": 231,
   "id": "ad07b5d1",
   "metadata": {},
   "outputs": [
    {
     "name": "stdout",
     "output_type": "stream",
     "text": [
      "[[13 10  0]\n",
      " [ 9 10  1]]\n"
     ]
    }
   ],
   "source": [
    "Q5=x[:2,5:]\n",
    "print(Q5)"
   ]
  },
  {
   "cell_type": "code",
   "execution_count": 125,
   "id": "3a6f0313",
   "metadata": {},
   "outputs": [],
   "source": [
    "np.random.seed(10)\n",
    "Q6=np.random.randint(15, size =(4, 5))"
   ]
  },
  {
   "cell_type": "code",
   "execution_count": 129,
   "id": "87d255d9",
   "metadata": {},
   "outputs": [],
   "source": [
    "Q6[2,2]=4\n",
    "Q7=Q6[1:,:3]"
   ]
  },
  {
   "cell_type": "code",
   "execution_count": 150,
   "id": "162a2c4f",
   "metadata": {},
   "outputs": [],
   "source": [
    "np.random.seed(8)\n",
    "Q8=np.random.randint(15, size =(4, 5))"
   ]
  },
  {
   "cell_type": "code",
   "execution_count": 156,
   "id": "13811ee3",
   "metadata": {},
   "outputs": [],
   "source": [
    "Q8_sub_copy=Q8[1:,:3].copy()\n",
    "Q8_sub_copy[1,2]=4\n",
    "Q9=Q8_sub_copy"
   ]
  },
  {
   "cell_type": "code",
   "execution_count": 161,
   "id": "87547dfd",
   "metadata": {},
   "outputs": [],
   "source": [
    "np.random.seed(20)\n",
    "a=np.random.randint(15, size =(2, 6))"
   ]
  },
  {
   "cell_type": "code",
   "execution_count": 162,
   "id": "bbf6f626",
   "metadata": {},
   "outputs": [],
   "source": [
    "Q10=a.reshape((4,3))"
   ]
  },
  {
   "cell_type": "code",
   "execution_count": 166,
   "id": "a373ce6d",
   "metadata": {},
   "outputs": [],
   "source": [
    "np.random.seed(15)\n",
    "b=np.random.randint(15, size =(10))"
   ]
  },
  {
   "cell_type": "code",
   "execution_count": 165,
   "id": "ab7d387b",
   "metadata": {},
   "outputs": [],
   "source": [
    "Q11=b.reshape((10,1))"
   ]
  },
  {
   "cell_type": "code",
   "execution_count": 228,
   "id": "93dd7291",
   "metadata": {},
   "outputs": [],
   "source": [
    "np.random.seed(9)\n",
    "c=np.random.randint(15, size =(5,3))"
   ]
  },
  {
   "cell_type": "code",
   "execution_count": 229,
   "id": "90f66a99",
   "metadata": {},
   "outputs": [],
   "source": [
    "c_sub_copy=c.copy()\n",
    "Q12=c_sub_copy[3,0:]"
   ]
  },
  {
   "cell_type": "code",
   "execution_count": null,
   "id": "bf8eefff",
   "metadata": {},
   "outputs": [],
   "source": []
  }
 ],
 "metadata": {
  "kernelspec": {
   "display_name": "Python 3 (ipykernel)",
   "language": "python",
   "name": "python3"
  },
  "language_info": {
   "codemirror_mode": {
    "name": "ipython",
    "version": 3
   },
   "file_extension": ".py",
   "mimetype": "text/x-python",
   "name": "python",
   "nbconvert_exporter": "python",
   "pygments_lexer": "ipython3",
   "version": "3.9.7"
  }
 },
 "nbformat": 4,
 "nbformat_minor": 5
}
