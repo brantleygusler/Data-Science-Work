{
 "cells": [
  {
   "cell_type": "code",
   "execution_count": 1,
   "id": "31e68870",
   "metadata": {},
   "outputs": [],
   "source": [
    "import numpy as np\n",
    "import pandas as pd"
   ]
  },
  {
   "cell_type": "code",
   "execution_count": 2,
   "id": "fefd060c",
   "metadata": {},
   "outputs": [],
   "source": [
    "x=pd.read_csv(\"dots.csv\") "
   ]
  },
  {
   "cell_type": "code",
   "execution_count": 3,
   "id": "a3149b58",
   "metadata": {},
   "outputs": [],
   "source": [
    "Q1=x['firing_rate'].mean()"
   ]
  },
  {
   "cell_type": "code",
   "execution_count": 4,
   "id": "701ef4f5",
   "metadata": {},
   "outputs": [],
   "source": [
    "Q2=x['time'].max()"
   ]
  },
  {
   "cell_type": "code",
   "execution_count": 5,
   "id": "90ac9b97",
   "metadata": {},
   "outputs": [],
   "source": [
    "Q3=x.groupby(['choice']).mean()"
   ]
  },
  {
   "cell_type": "code",
   "execution_count": 6,
   "id": "8883127d",
   "metadata": {},
   "outputs": [],
   "source": [
    "Q4=x.groupby('align')['firing_rate'].min()"
   ]
  },
  {
   "cell_type": "code",
   "execution_count": 7,
   "id": "e1298693",
   "metadata": {},
   "outputs": [],
   "source": [
    "Q5=x.groupby(['align', 'choice'])['firing_rate'].mean().unstack()"
   ]
  },
  {
   "cell_type": "code",
   "execution_count": 8,
   "id": "53ea1efe",
   "metadata": {},
   "outputs": [],
   "source": [
    "Q6=x.pivot_table('firing_rate', 'align', 'choice')"
   ]
  },
  {
   "cell_type": "code",
   "execution_count": 9,
   "id": "e8d4cf55",
   "metadata": {},
   "outputs": [],
   "source": [
    "y=pd.read_csv(\"tips.csv\")"
   ]
  },
  {
   "cell_type": "code",
   "execution_count": 10,
   "id": "2a3e15d9",
   "metadata": {},
   "outputs": [],
   "source": [
    "Q7=y.pivot_table('total_bill', ['sex', 'smoker'], 'time')"
   ]
  },
  {
   "cell_type": "code",
   "execution_count": 11,
   "id": "d64114d7",
   "metadata": {},
   "outputs": [],
   "source": [
    "tip=pd.cut(y['tip'], [0, 5, 10])\n",
    "Q8=y.pivot_table('total_bill', ['sex', tip], 'smoker')"
   ]
  },
  {
   "cell_type": "code",
   "execution_count": 12,
   "id": "f0fef319",
   "metadata": {},
   "outputs": [],
   "source": [
    "Q9=y.pivot_table(index='sex', columns='smoker',\n",
    "                aggfunc={'size':sum, 'tip':max, 'total_bill':np.mean})"
   ]
  },
  {
   "cell_type": "code",
   "execution_count": null,
   "id": "2adeee4f",
   "metadata": {},
   "outputs": [],
   "source": []
  }
 ],
 "metadata": {
  "kernelspec": {
   "display_name": "Python 3 (ipykernel)",
   "language": "python",
   "name": "python3"
  },
  "language_info": {
   "codemirror_mode": {
    "name": "ipython",
    "version": 3
   },
   "file_extension": ".py",
   "mimetype": "text/x-python",
   "name": "python",
   "nbconvert_exporter": "python",
   "pygments_lexer": "ipython3",
   "version": "3.9.7"
  }
 },
 "nbformat": 4,
 "nbformat_minor": 5
}
