{
 "cells": [
  {
   "cell_type": "code",
   "execution_count": 233,
   "id": "19c0948a",
   "metadata": {},
   "outputs": [],
   "source": [
    "import numpy as np"
   ]
  },
  {
   "cell_type": "code",
   "execution_count": 234,
   "id": "d77d906d",
   "metadata": {},
   "outputs": [],
   "source": [
    "np.random.seed(100)"
   ]
  },
  {
   "cell_type": "code",
   "execution_count": 235,
   "id": "b129bcdc",
   "metadata": {},
   "outputs": [],
   "source": [
    "a=np.random.random((1,20))\n",
    "Q1=a.sum()"
   ]
  },
  {
   "cell_type": "code",
   "execution_count": 236,
   "id": "5a34013d",
   "metadata": {},
   "outputs": [],
   "source": [
    "Q2=a.max()"
   ]
  },
  {
   "cell_type": "code",
   "execution_count": 237,
   "id": "ed392d90",
   "metadata": {},
   "outputs": [],
   "source": [
    "b=np.random.random((4,5))\n",
    "Q3=b.min(axis=1)"
   ]
  },
  {
   "cell_type": "code",
   "execution_count": 238,
   "id": "b815c7a0",
   "metadata": {},
   "outputs": [],
   "source": [
    "Q4=b.mean()"
   ]
  },
  {
   "cell_type": "code",
   "execution_count": 239,
   "id": "f130f6e4",
   "metadata": {},
   "outputs": [],
   "source": [
    "c=np.array([2, 3, np.nan, 5])\n",
    "Q5= np.nansum(c)"
   ]
  },
  {
   "cell_type": "code",
   "execution_count": 240,
   "id": "ec17ec7c",
   "metadata": {},
   "outputs": [],
   "source": [
    "d=np.random.random(4)\n",
    "e=np.random.random(4)\n",
    "Q6=np.concatenate([d,e])"
   ]
  },
  {
   "cell_type": "code",
   "execution_count": 241,
   "id": "72c29801",
   "metadata": {},
   "outputs": [],
   "source": [
    "q7=np.random.random((4,4))\n",
    "Q7=np.concatenate([q7,q7])"
   ]
  },
  {
   "cell_type": "code",
   "execution_count": 242,
   "id": "29bc1a87",
   "metadata": {},
   "outputs": [],
   "source": [
    "q8=np.random.random((2,4))\n",
    "Q8=np.vstack([q7, q8])"
   ]
  },
  {
   "cell_type": "code",
   "execution_count": 243,
   "id": "81814d2d",
   "metadata": {},
   "outputs": [],
   "source": [
    "Q9=np.vstack([q7, q7, q7, q8, q8])"
   ]
  },
  {
   "cell_type": "code",
   "execution_count": 244,
   "id": "dec864d5",
   "metadata": {},
   "outputs": [],
   "source": [
    "f=np.random.random((2,1))\n",
    "Q10=np.hstack([q8, f])"
   ]
  },
  {
   "cell_type": "code",
   "execution_count": 245,
   "id": "62546bb2",
   "metadata": {},
   "outputs": [],
   "source": [
    "q11=np.random.random(20)\n",
    "Q11a, Q11b = np.split(q11, [5])"
   ]
  },
  {
   "cell_type": "code",
   "execution_count": 246,
   "id": "c85638b7",
   "metadata": {},
   "outputs": [],
   "source": [
    "Q12a, Q12b, Q12c = np.split(q11, [10, 15])"
   ]
  },
  {
   "cell_type": "code",
   "execution_count": 247,
   "id": "788d86ab",
   "metadata": {},
   "outputs": [],
   "source": [
    "q13=np.random.random((5,5))\n",
    "Q13a, Q13b = np.vsplit(q13, [3])"
   ]
  },
  {
   "cell_type": "code",
   "execution_count": 248,
   "id": "1162ec5b",
   "metadata": {},
   "outputs": [],
   "source": [
    "Q14a, Q14b = np.hsplit(q13, [3])"
   ]
  },
  {
   "cell_type": "code",
   "execution_count": null,
   "id": "cc8bf0c7",
   "metadata": {},
   "outputs": [],
   "source": []
  }
 ],
 "metadata": {
  "kernelspec": {
   "display_name": "Python 3 (ipykernel)",
   "language": "python",
   "name": "python3"
  },
  "language_info": {
   "codemirror_mode": {
    "name": "ipython",
    "version": 3
   },
   "file_extension": ".py",
   "mimetype": "text/x-python",
   "name": "python",
   "nbconvert_exporter": "python",
   "pygments_lexer": "ipython3",
   "version": "3.9.7"
  }
 },
 "nbformat": 4,
 "nbformat_minor": 5
}
