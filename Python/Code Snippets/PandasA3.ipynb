{
 "cells": [
  {
   "cell_type": "code",
   "execution_count": 1,
   "id": "c5a3e608",
   "metadata": {},
   "outputs": [],
   "source": [
    "import numpy as np\n",
    "import pandas as pd"
   ]
  },
  {
   "cell_type": "code",
   "execution_count": 2,
   "id": "572956d0",
   "metadata": {},
   "outputs": [],
   "source": [
    "a=pd.Series(['a', 'b', 'c', 'd', 'e'], \n",
    "             index=['A', 'B', 'C', 'D', 'E'])"
   ]
  },
  {
   "cell_type": "code",
   "execution_count": 3,
   "id": "7a4eb54f",
   "metadata": {},
   "outputs": [],
   "source": [
    "b=pd.Series([1, 2, 3, 4, 5], \n",
    "             index=['A', 'B', 'C', 'D', 'E'])"
   ]
  },
  {
   "cell_type": "code",
   "execution_count": 67,
   "id": "2671050a",
   "metadata": {},
   "outputs": [],
   "source": [
    "q1=pd.DataFrame({'lowercase': a,\n",
    "                 'numbers': b})"
   ]
  },
  {
   "cell_type": "code",
   "execution_count": 8,
   "id": "6600b460",
   "metadata": {},
   "outputs": [],
   "source": [
    "Q1=q1['numbers']['C']"
   ]
  },
  {
   "cell_type": "code",
   "execution_count": 10,
   "id": "5f024cbf",
   "metadata": {},
   "outputs": [],
   "source": [
    "Q2=q1[1:]"
   ]
  },
  {
   "cell_type": "code",
   "execution_count": 21,
   "id": "4e065cd4",
   "metadata": {},
   "outputs": [],
   "source": [
    "Q3=q1.loc['D']"
   ]
  },
  {
   "cell_type": "code",
   "execution_count": 24,
   "id": "d5a423ce",
   "metadata": {},
   "outputs": [],
   "source": [
    "Q4=q1.loc['A':'C']['numbers']"
   ]
  },
  {
   "cell_type": "code",
   "execution_count": 31,
   "id": "dced8836",
   "metadata": {},
   "outputs": [],
   "source": [
    "Q5=q1.loc[['A','C','D']]"
   ]
  },
  {
   "cell_type": "code",
   "execution_count": 33,
   "id": "19ca7a0c",
   "metadata": {},
   "outputs": [],
   "source": [
    "Q6=q1.loc['C']"
   ]
  },
  {
   "cell_type": "code",
   "execution_count": 35,
   "id": "0d3beb76",
   "metadata": {},
   "outputs": [],
   "source": [
    "Q7=q1.loc['E']['numbers']"
   ]
  },
  {
   "cell_type": "code",
   "execution_count": 37,
   "id": "6639a211",
   "metadata": {},
   "outputs": [],
   "source": [
    "Q8=q1.loc['C':'E']"
   ]
  },
  {
   "cell_type": "code",
   "execution_count": 40,
   "id": "abcaae0f",
   "metadata": {},
   "outputs": [],
   "source": [
    "Q9=q1.loc[q1['numbers']<3]"
   ]
  },
  {
   "cell_type": "code",
   "execution_count": 45,
   "id": "836e6cae",
   "metadata": {},
   "outputs": [],
   "source": [
    "Q10=q1.iloc[3]"
   ]
  },
  {
   "cell_type": "code",
   "execution_count": 49,
   "id": "8ea1bcde",
   "metadata": {},
   "outputs": [],
   "source": [
    "Q11=q1.iloc[4]['numbers']"
   ]
  },
  {
   "cell_type": "code",
   "execution_count": 57,
   "id": "4a18230e",
   "metadata": {},
   "outputs": [],
   "source": [
    "Q12=q1.iloc[[0, 2, 3]]"
   ]
  },
  {
   "cell_type": "code",
   "execution_count": 62,
   "id": "ea252e8f",
   "metadata": {},
   "outputs": [],
   "source": [
    "Q13=q1.iloc[2:]"
   ]
  },
  {
   "cell_type": "code",
   "execution_count": 65,
   "id": "7e1efcbc",
   "metadata": {},
   "outputs": [],
   "source": [
    "Q14=q1.lowercase"
   ]
  },
  {
   "cell_type": "code",
   "execution_count": 66,
   "id": "cda076bb",
   "metadata": {},
   "outputs": [],
   "source": [
    "n=pd.Series(['a', 'b', 'c', 'd', 'e'], \n",
    "             index=['A', 'B', 'C', 'D', 'E'])"
   ]
  },
  {
   "cell_type": "code",
   "execution_count": 68,
   "id": "22b46b53",
   "metadata": {},
   "outputs": [],
   "source": [
    "m=pd.Series([1, 2, 3, 4, 5], \n",
    "             index=['A', 'B', 'C', 'D', 'E'])"
   ]
  },
  {
   "cell_type": "code",
   "execution_count": 83,
   "id": "03d33a36",
   "metadata": {},
   "outputs": [],
   "source": [
    "Q15=pd.DataFrame({'lowercase': n,\n",
    "                 'numbers': m})"
   ]
  },
  {
   "cell_type": "code",
   "execution_count": 79,
   "id": "11bcf5a3",
   "metadata": {},
   "outputs": [],
   "source": [
    "Q15['percent']=Q15['numbers']/15"
   ]
  }
 ],
 "metadata": {
  "kernelspec": {
   "display_name": "Python 3 (ipykernel)",
   "language": "python",
   "name": "python3"
  },
  "language_info": {
   "codemirror_mode": {
    "name": "ipython",
    "version": 3
   },
   "file_extension": ".py",
   "mimetype": "text/x-python",
   "name": "python",
   "nbconvert_exporter": "python",
   "pygments_lexer": "ipython3",
   "version": "3.9.7"
  }
 },
 "nbformat": 4,
 "nbformat_minor": 5
}
