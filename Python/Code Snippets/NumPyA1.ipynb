{
 "cells": [
  {
   "cell_type": "code",
   "execution_count": 1,
   "id": "8b307bf0",
   "metadata": {},
   "outputs": [],
   "source": [
    "import numpy as np"
   ]
  },
  {
   "cell_type": "code",
   "execution_count": 2,
   "id": "a248bb7c",
   "metadata": {},
   "outputs": [],
   "source": [
    "Q1=np.array([2,8,7,11])"
   ]
  },
  {
   "cell_type": "code",
   "execution_count": 5,
   "id": "9e4ed4f1",
   "metadata": {},
   "outputs": [],
   "source": [
    "Q2=np.array([[1,2,3],[4,5,6],[7,8,9]])"
   ]
  },
  {
   "cell_type": "code",
   "execution_count": 8,
   "id": "9e67c1dc",
   "metadata": {},
   "outputs": [],
   "source": [
    "Q3=Q2[:3,1:2]"
   ]
  },
  {
   "cell_type": "code",
   "execution_count": 73,
   "id": "51e418eb",
   "metadata": {},
   "outputs": [],
   "source": [
    "np.random.seed(6)\n",
    "Q4=np.random.randint(10, size =(5,6))"
   ]
  },
  {
   "cell_type": "code",
   "execution_count": 58,
   "id": "03c39049",
   "metadata": {},
   "outputs": [],
   "source": [
    "Q5=Q4[:3,1:3]\n"
   ]
  },
  {
   "cell_type": "code",
   "execution_count": 61,
   "id": "a039eee7",
   "metadata": {},
   "outputs": [],
   "source": [
    "Q6=Q4[3:,2:5]"
   ]
  },
  {
   "cell_type": "code",
   "execution_count": 63,
   "id": "eeecc4e6",
   "metadata": {},
   "outputs": [],
   "source": [
    "Q7=Q4[2:4,1:3]"
   ]
  },
  {
   "cell_type": "code",
   "execution_count": 69,
   "id": "af1d5121",
   "metadata": {},
   "outputs": [],
   "source": [
    "Q8=Q4[:,2:4]"
   ]
  },
  {
   "cell_type": "code",
   "execution_count": 72,
   "id": "49f7f14e",
   "metadata": {},
   "outputs": [],
   "source": [
    "Q9=Q4[3:,:]"
   ]
  },
  {
   "cell_type": "code",
   "execution_count": null,
   "id": "2ee406ba",
   "metadata": {},
   "outputs": [],
   "source": []
  }
 ],
 "metadata": {
  "kernelspec": {
   "display_name": "Python 3 (ipykernel)",
   "language": "python",
   "name": "python3"
  },
  "language_info": {
   "codemirror_mode": {
    "name": "ipython",
    "version": 3
   },
   "file_extension": ".py",
   "mimetype": "text/x-python",
   "name": "python",
   "nbconvert_exporter": "python",
   "pygments_lexer": "ipython3",
   "version": "3.9.7"
  }
 },
 "nbformat": 4,
 "nbformat_minor": 5
}
