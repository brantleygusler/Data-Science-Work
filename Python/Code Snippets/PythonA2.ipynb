{
 "cells": [
  {
   "cell_type": "code",
   "execution_count": null,
   "id": "29cc0fc7",
   "metadata": {},
   "outputs": [],
   "source": [
    "Q1='Data Science for all!'"
   ]
  },
  {
   "cell_type": "code",
   "execution_count": null,
   "id": "6034839b",
   "metadata": {},
   "outputs": [],
   "source": [
    "def Q2():\n",
    "    for i in Q1:\n",
    "        print(i)"
   ]
  },
  {
   "cell_type": "code",
   "execution_count": null,
   "id": "f71f0c28",
   "metadata": {},
   "outputs": [],
   "source": [
    "def Q3():\n",
    "    for i in Q1:\n",
    "        print('A')"
   ]
  },
  {
   "cell_type": "code",
   "execution_count": null,
   "id": "ad82913b",
   "metadata": {},
   "outputs": [],
   "source": [
    "Q4=['DTSC 520', 'DTSC 550', 'DTSC 575', 'DTSC 600', 'DTSC 650']"
   ]
  },
  {
   "cell_type": "code",
   "execution_count": null,
   "id": "77ed149a",
   "metadata": {},
   "outputs": [],
   "source": [
    "def Q5():\n",
    "    for i in Q4:\n",
    "        print(i)"
   ]
  },
  {
   "cell_type": "code",
   "execution_count": null,
   "id": "399961ad",
   "metadata": {},
   "outputs": [],
   "source": [
    "def Q6():\n",
    "    x=2\n",
    "    while x < 50:\n",
    "        print(x)\n",
    "        x=x*2"
   ]
  },
  {
   "cell_type": "code",
   "execution_count": null,
   "id": "6d8d5875",
   "metadata": {},
   "outputs": [],
   "source": [
    "Q7=[2, 3, 5, 7, 11, 13, 17, 19, 23, 29]"
   ]
  },
  {
   "cell_type": "code",
   "execution_count": 104,
   "id": "b0ce8e2d",
   "metadata": {},
   "outputs": [],
   "source": [
    "def Q8():\n",
    "    x=0\n",
    "    for i in Q7:\n",
    "        x=x+i\n",
    "    return x"
   ]
  },
  {
   "cell_type": "code",
   "execution_count": 106,
   "id": "b4f384e6",
   "metadata": {},
   "outputs": [],
   "source": [
    "def Q9():\n",
    "    x=3\n",
    "    y=0\n",
    "    while x < 10000000000000000000:\n",
    "        x=x*x\n",
    "        y=y+1\n",
    "    return y"
   ]
  },
  {
   "cell_type": "code",
   "execution_count": null,
   "id": "80634426",
   "metadata": {},
   "outputs": [],
   "source": []
  }
 ],
 "metadata": {
  "kernelspec": {
   "display_name": "Python 3 (ipykernel)",
   "language": "python",
   "name": "python3"
  },
  "language_info": {
   "codemirror_mode": {
    "name": "ipython",
    "version": 3
   },
   "file_extension": ".py",
   "mimetype": "text/x-python",
   "name": "python",
   "nbconvert_exporter": "python",
   "pygments_lexer": "ipython3",
   "version": "3.9.7"
  }
 },
 "nbformat": 4,
 "nbformat_minor": 5
}
