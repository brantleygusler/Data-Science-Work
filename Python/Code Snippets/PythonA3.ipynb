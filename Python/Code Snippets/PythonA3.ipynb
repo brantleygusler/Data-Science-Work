{
 "cells": [
  {
   "cell_type": "code",
   "execution_count": 235,
   "id": "8fa57bbe",
   "metadata": {
    "collapsed": true
   },
   "outputs": [],
   "source": [
    "Q1=['one', 1, 1.0]"
   ]
  },
  {
   "cell_type": "code",
   "execution_count": 236,
   "id": "8c632444",
   "metadata": {
    "collapsed": true
   },
   "outputs": [],
   "source": [
    "q2=['two', 2, 2.0]\n",
    "q2[1]='dos'\n",
    "Q2=q2"
   ]
  },
  {
   "cell_type": "code",
   "execution_count": 267,
   "id": "ba80dfc4",
   "metadata": {
    "collapsed": true
   },
   "outputs": [],
   "source": [
    "q3=['three', 3, 3.0]\n",
    "q3.append('tres')\n",
    "Q3=q3"
   ]
  },
  {
   "cell_type": "code",
   "execution_count": 268,
   "id": "81bdde70",
   "metadata": {},
   "outputs": [],
   "source": [
    "q4a=['four', 4, 4.0]\n",
    "q4b=['eight', 8, 8.0, 'ocho']\n",
    "Q4=q4a+q4b"
   ]
  },
  {
   "cell_type": "code",
   "execution_count": 259,
   "id": "9aab380f",
   "metadata": {
    "collapsed": true
   },
   "outputs": [],
   "source": [
    "q5a=['five', 5]\n",
    "q5b=['nine', 9, 9.0, 'nueve']\n",
    "q5a.append(q5b)\n",
    "Q5=q5a"
   ]
  },
  {
   "cell_type": "code",
   "execution_count": 260,
   "id": "e5164eff",
   "metadata": {
    "collapsed": true
   },
   "outputs": [],
   "source": [
    "Q6=len(q5b)"
   ]
  },
  {
   "cell_type": "code",
   "execution_count": 261,
   "id": "dde11ab8",
   "metadata": {
    "collapsed": true
   },
   "outputs": [],
   "source": [
    "Q7=q5b*3"
   ]
  },
  {
   "cell_type": "code",
   "execution_count": 264,
   "id": "f2fe6ce7",
   "metadata": {
    "collapsed": true
   },
   "outputs": [],
   "source": [
    "Q8=Q5[2]"
   ]
  }
 ],
 "metadata": {
  "kernelspec": {
   "display_name": "Python 3 (ipykernel)",
   "language": "python",
   "name": "python3"
  },
  "language_info": {
   "codemirror_mode": {
    "name": "ipython",
    "version": 3
   },
   "file_extension": ".py",
   "mimetype": "text/x-python",
   "name": "python",
   "nbconvert_exporter": "python",
   "pygments_lexer": "ipython3",
   "version": "3.9.7"
  }
 },
 "nbformat": 4,
 "nbformat_minor": 5
}
