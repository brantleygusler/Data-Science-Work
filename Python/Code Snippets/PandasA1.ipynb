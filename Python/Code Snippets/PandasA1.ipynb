{
 "cells": [
  {
   "cell_type": "code",
   "execution_count": 32,
   "id": "ebc93a6d",
   "metadata": {},
   "outputs": [],
   "source": [
    "import numpy as np\n",
    "import pandas as pd"
   ]
  },
  {
   "cell_type": "code",
   "execution_count": 33,
   "id": "3e8cd89f",
   "metadata": {},
   "outputs": [],
   "source": [
    "Q1=pd.Series(['Stina Calista', 'Fran Hendrix', 'Cyril Isak', 'Danilo Norina'], \n",
    "             index=[5281224, 4223241, 4233342, 5012332])"
   ]
  },
  {
   "cell_type": "code",
   "execution_count": 34,
   "id": "abffaeec",
   "metadata": {},
   "outputs": [],
   "source": [
    "Q2 = {'Roger Clemens': 133.7,\n",
    "      'Cy Young': 131.5,\n",
    "      'Walter Johnson': 117.1,\n",
    "      'Greg Maddux': 116.7,\n",
    "      'Randy Johnson': 110.4\n",
    "     }"
   ]
  },
  {
   "cell_type": "code",
   "execution_count": 9,
   "id": "ac4ae784",
   "metadata": {},
   "outputs": [],
   "source": [
    "Q3=pd.Series(Q2)"
   ]
  },
  {
   "cell_type": "code",
   "execution_count": 16,
   "id": "1134bc2c",
   "metadata": {},
   "outputs": [],
   "source": [
    "occupation=pd.Series(['Accountant', 'Data scientist', 'Manager', 'Security staff'], \n",
    "             index=[5281224, 4223241, 4233342, 5012332])"
   ]
  },
  {
   "cell_type": "code",
   "execution_count": 15,
   "id": "32b7df8d",
   "metadata": {},
   "outputs": [],
   "source": [
    "Q4=pd.DataFrame({'Name': Q1,\n",
    "                 'Occupation': occupation})"
   ]
  },
  {
   "cell_type": "code",
   "execution_count": 18,
   "id": "449cfd8c",
   "metadata": {},
   "outputs": [],
   "source": [
    "pop_dict = {'China': 1411778724,\n",
    "      'India': 1378331486,\n",
    "      'United States': 331865271,\n",
    "      'Indonesia': 271350000,\n",
    "      'Pakistan': 225200000\n",
    "     }"
   ]
  },
  {
   "cell_type": "code",
   "execution_count": 19,
   "id": "8d064f03",
   "metadata": {},
   "outputs": [],
   "source": [
    "area_dict = {'Russia': 17098246,\n",
    "      'Canada': 9984670,\n",
    "      'China': 9596961,\n",
    "      'United States': 9525067,\n",
    "      'Brazil': 8515767\n",
    "     }"
   ]
  },
  {
   "cell_type": "code",
   "execution_count": 30,
   "id": "72aac487",
   "metadata": {},
   "outputs": [],
   "source": [
    "Q5=pd.DataFrame({'Population': pop_dict,\n",
    "                 'Area': area_dict})"
   ]
  },
  {
   "cell_type": "code",
   "execution_count": 35,
   "id": "6092d550",
   "metadata": {},
   "outputs": [
    {
     "name": "stdout",
     "output_type": "stream",
     "text": [
      "                 Population       Area\n",
      "China          1.411779e+09  9596961.0\n",
      "United States  3.318653e+08  9525067.0\n"
     ]
    }
   ],
   "source": [
    "Q6=Q5.loc[['China', 'United States']]\n",
    "print(Q6)"
   ]
  },
  {
   "cell_type": "code",
   "execution_count": 27,
   "id": "f8f11607",
   "metadata": {},
   "outputs": [],
   "source": [
    "Q7=Q5.loc[Q5['Population']>270000000]"
   ]
  },
  {
   "cell_type": "code",
   "execution_count": 29,
   "id": "1876cb82",
   "metadata": {},
   "outputs": [],
   "source": [
    "Q8=Q5.loc[Q5['Area']>9600000]"
   ]
  }
 ],
 "metadata": {
  "kernelspec": {
   "display_name": "Python 3 (ipykernel)",
   "language": "python",
   "name": "python3"
  },
  "language_info": {
   "codemirror_mode": {
    "name": "ipython",
    "version": 3
   },
   "file_extension": ".py",
   "mimetype": "text/x-python",
   "name": "python",
   "nbconvert_exporter": "python",
   "pygments_lexer": "ipython3",
   "version": "3.9.7"
  }
 },
 "nbformat": 4,
 "nbformat_minor": 5
}
