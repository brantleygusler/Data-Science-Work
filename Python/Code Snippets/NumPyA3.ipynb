{
 "cells": [
  {
   "cell_type": "code",
   "execution_count": 1,
   "id": "ccb69225",
   "metadata": {},
   "outputs": [],
   "source": [
    "import numpy as np"
   ]
  },
  {
   "cell_type": "code",
   "execution_count": 27,
   "id": "72631f44",
   "metadata": {},
   "outputs": [
    {
     "name": "stdout",
     "output_type": "stream",
     "text": [
      "[[23 31 20 20 43 37]\n",
      " [24 31 32 39 44 19]\n",
      " [32 36 36 47 14 15]\n",
      " [10  7 35  1 11 17]\n",
      " [ 6 20 37 33 40  1]\n",
      " [42  4 29 41 28  0]\n",
      " [28 40 25 37 11  3]\n",
      " [18 36 21 22 45 14]]\n"
     ]
    }
   ],
   "source": [
    "np.random.seed(77)\n",
    "Q1=np.random.randint(51, size =(8,6))\n",
    "print(Q1)"
   ]
  },
  {
   "cell_type": "code",
   "execution_count": 15,
   "id": "c514a636",
   "metadata": {},
   "outputs": [],
   "source": [
    "Q2=Q1[2:7,4:]"
   ]
  },
  {
   "cell_type": "code",
   "execution_count": 16,
   "id": "0e504048",
   "metadata": {},
   "outputs": [],
   "source": [
    "Q3=Q1[2:,3:5]"
   ]
  },
  {
   "cell_type": "code",
   "execution_count": 17,
   "id": "52e2c71a",
   "metadata": {},
   "outputs": [],
   "source": [
    "Q4=Q3.reshape((2,6))"
   ]
  },
  {
   "cell_type": "code",
   "execution_count": 18,
   "id": "c9aca79f",
   "metadata": {},
   "outputs": [],
   "source": [
    "Q5=Q4.reshape((3,4))"
   ]
  },
  {
   "cell_type": "code",
   "execution_count": 19,
   "id": "87c9e2be",
   "metadata": {},
   "outputs": [],
   "source": [
    "name = ['Janetta', 'Deb', 'Minato', 'Maurine', 'Niketas']\n",
    "last = ['Lydia', 'Albin', 'Vanja', 'Peter', 'Justine']\n",
    "height = [58, 68, 78, 77, 70]\n",
    "age = [58, 50, 38, 57, 60]"
   ]
  },
  {
   "cell_type": "code",
   "execution_count": 23,
   "id": "aaee8481",
   "metadata": {},
   "outputs": [],
   "source": [
    "Q6 = np.zeros(5, dtype = {'names':('Name', 'Last', 'Height', 'Age'),\n",
    "                         'formats':('U20', 'U20', 'int16', 'int16')})"
   ]
  },
  {
   "cell_type": "code",
   "execution_count": 26,
   "id": "33daf025",
   "metadata": {},
   "outputs": [],
   "source": [
    "Q6['Name'] = name\n",
    "Q6['Last'] = last\n",
    "Q6['Height'] = height\n",
    "Q6['Age'] = age"
   ]
  }
 ],
 "metadata": {
  "kernelspec": {
   "display_name": "Python 3 (ipykernel)",
   "language": "python",
   "name": "python3"
  },
  "language_info": {
   "codemirror_mode": {
    "name": "ipython",
    "version": 3
   },
   "file_extension": ".py",
   "mimetype": "text/x-python",
   "name": "python",
   "nbconvert_exporter": "python",
   "pygments_lexer": "ipython3",
   "version": "3.9.7"
  }
 },
 "nbformat": 4,
 "nbformat_minor": 5
}
