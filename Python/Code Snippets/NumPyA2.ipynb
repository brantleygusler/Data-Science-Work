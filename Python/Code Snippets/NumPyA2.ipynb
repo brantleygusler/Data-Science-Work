{
 "cells": [
  {
   "cell_type": "code",
   "execution_count": 2,
   "id": "0372e14e",
   "metadata": {},
   "outputs": [],
   "source": [
    "import numpy as np"
   ]
  },
  {
   "cell_type": "code",
   "execution_count": 43,
   "id": "6a86a87e",
   "metadata": {},
   "outputs": [],
   "source": [
    "np.random.seed(56)\n",
    "Q1=np.random.randint(20, size =(10,10))"
   ]
  },
  {
   "cell_type": "code",
   "execution_count": 6,
   "id": "a7521b3e",
   "metadata": {},
   "outputs": [],
   "source": [
    "Q2=Q1[2:5,3:8]"
   ]
  },
  {
   "cell_type": "code",
   "execution_count": 8,
   "id": "4dbc9dd6",
   "metadata": {},
   "outputs": [],
   "source": [
    "Q3=Q1[7:,4:6]"
   ]
  },
  {
   "cell_type": "code",
   "execution_count": 10,
   "id": "f5bd2b2e",
   "metadata": {},
   "outputs": [],
   "source": [
    "Q4=Q3.reshape((2,3))"
   ]
  },
  {
   "cell_type": "code",
   "execution_count": 93,
   "id": "f5e8a371",
   "metadata": {},
   "outputs": [],
   "source": [
    "x=np.random.randint(15, size =10)\n",
    "y=np.random.randint(15, size =10)\n",
    "Q5=np.concatenate([x,y])\n"
   ]
  },
  {
   "cell_type": "code",
   "execution_count": 94,
   "id": "6c889c5e",
   "metadata": {},
   "outputs": [],
   "source": [
    "Q6a, Q6b, Q6c, Q6d=np.split(Q5,[4,11,17])\n"
   ]
  },
  {
   "cell_type": "code",
   "execution_count": 95,
   "id": "318ceb03",
   "metadata": {},
   "outputs": [],
   "source": [
    "Q7=Q5.sum()\n"
   ]
  },
  {
   "cell_type": "code",
   "execution_count": 102,
   "id": "d2cf5283",
   "metadata": {},
   "outputs": [],
   "source": [
    "p=np.random.randint(48,86, size =50)\n",
    "Q8=p.mean()"
   ]
  },
  {
   "cell_type": "code",
   "execution_count": 115,
   "id": "786eaba3",
   "metadata": {},
   "outputs": [],
   "source": [
    "name = ['Jonathan Loaisiga', 'Nick Saban', 'Katie Ladecky']\n",
    "occupation = ['Baseball player', 'Football coach', 'Swimmer']\n",
    "salary = [595800.00, 8619934.23, 100000.00]"
   ]
  },
  {
   "cell_type": "code",
   "execution_count": 116,
   "id": "a693817e",
   "metadata": {},
   "outputs": [],
   "source": [
    "Q9 = np.zeros(3, dtype = {'names':('Name', 'Occupation', 'Salary'),\n",
    "                         'formats':('U20', 'U20', 'f8')})"
   ]
  },
  {
   "cell_type": "code",
   "execution_count": 117,
   "id": "7a023c51",
   "metadata": {},
   "outputs": [],
   "source": [
    "Q9['Name'] = name\n",
    "Q9['Occupation'] = occupation\n",
    "Q9['Salary'] = salary"
   ]
  }
 ],
 "metadata": {
  "kernelspec": {
   "display_name": "Python 3 (ipykernel)",
   "language": "python",
   "name": "python3"
  },
  "language_info": {
   "codemirror_mode": {
    "name": "ipython",
    "version": 3
   },
   "file_extension": ".py",
   "mimetype": "text/x-python",
   "name": "python",
   "nbconvert_exporter": "python",
   "pygments_lexer": "ipython3",
   "version": "3.9.7"
  }
 },
 "nbformat": 4,
 "nbformat_minor": 5
}
