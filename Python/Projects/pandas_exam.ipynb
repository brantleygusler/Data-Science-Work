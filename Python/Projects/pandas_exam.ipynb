{
 "cells": [
  {
   "cell_type": "markdown",
   "metadata": {},
   "source": [
    "# Pandas Exam"
   ]
  },
  {
   "cell_type": "markdown",
   "metadata": {},
   "source": [
    "Import `numpy as np`, `pandas as pd`, and check your pandas version."
   ]
  },
  {
   "cell_type": "code",
   "execution_count": 1,
   "metadata": {},
   "outputs": [
    {
     "name": "stdout",
     "output_type": "stream",
     "text": [
      "1.3.4\n"
     ]
    }
   ],
   "source": [
    "import numpy as np \n",
    "import pandas as pd\n",
    "print(pd.__version__) # your version may be different\n",
    "\n",
    "# set display columns - Do not change or CodeGrade may not function correctly\n",
    "pd.set_option('display.max_columns', None)"
   ]
  },
  {
   "cell_type": "markdown",
   "metadata": {},
   "source": [
    "## Series"
   ]
  },
  {
   "cell_type": "markdown",
   "metadata": {},
   "source": [
    "**Q1:** Create a Pandas Series object called `Q1` from the following `arr` array."
   ]
  },
  {
   "cell_type": "code",
   "execution_count": 2,
   "metadata": {},
   "outputs": [],
   "source": [
    "arr = np.array([4,8,-3,1])\n",
    "Q1 = pd.Series(arr)"
   ]
  },
  {
   "cell_type": "markdown",
   "metadata": {},
   "source": [
    "**Q2:** Create a Pandas Series object called `Q2` from the above `arr` array with an index of `a`, `b`, `c`, `d`."
   ]
  },
  {
   "cell_type": "code",
   "execution_count": 3,
   "metadata": {},
   "outputs": [],
   "source": [
    "Q2 = pd.Series(arr, index=['a', 'b', 'c', 'd'])"
   ]
  },
  {
   "cell_type": "markdown",
   "metadata": {},
   "source": [
    "**Q3:** Index the `c` instance for the `Q2` Series and save it as `Q3`."
   ]
  },
  {
   "cell_type": "code",
   "execution_count": 4,
   "metadata": {},
   "outputs": [],
   "source": [
    "Q3 = Q2['c']"
   ]
  },
  {
   "cell_type": "markdown",
   "metadata": {},
   "source": [
    "**Q4:**  Make a copy of the `Q2` Series and call it `Q4`. Change the `c` instance in `Q4` to `0`."
   ]
  },
  {
   "cell_type": "code",
   "execution_count": 5,
   "metadata": {},
   "outputs": [],
   "source": [
    "# make a copy\n",
    "Q4 = Q2.copy()\n",
    "\n",
    "Q4['c'] = 0"
   ]
  },
  {
   "cell_type": "markdown",
   "metadata": {},
   "source": [
    "**Q5:** Filter all instances in `Q4` that are greater than `2` and save this as `Q5`."
   ]
  },
  {
   "cell_type": "code",
   "execution_count": 6,
   "metadata": {},
   "outputs": [],
   "source": [
    "Q5 = Q4[Q4>2]"
   ]
  },
  {
   "cell_type": "markdown",
   "metadata": {},
   "source": [
    "**Q6:** Using a Python dictionary, create the following as a Series called `Q6` using the state as the index.\n",
    "```\n",
    " Wyoming      581000\n",
    " Vermont      623000\n",
    " DC           714000\n",
    " Alaska       724000\n",
    " North Dakota 770000\n",
    "```"
   ]
  },
  {
   "cell_type": "code",
   "execution_count": 7,
   "metadata": {},
   "outputs": [],
   "source": [
    "states = {'Wyoming': 581000,'Vermont': 623000,'DC': 714000,\n",
    "          'Alaska': 724000,'North Dakota': 770000}\n",
    "\n",
    "Q6 = pd.Series(states)"
   ]
  },
  {
   "cell_type": "markdown",
   "metadata": {},
   "source": [
    "**Q7:** Create a Series called `Q7` using the `states` dictionary above. Use the list `states2` below as the index. Take a look at the new Series. What do you notice?"
   ]
  },
  {
   "cell_type": "code",
   "execution_count": 8,
   "metadata": {},
   "outputs": [],
   "source": [
    "states2 = ['Alaska','DC','North Dakota','South Dakota','Wyoming']\n",
    "\n",
    "Q7 = pd.Series(states, index=states2)"
   ]
  },
  {
   "cell_type": "markdown",
   "metadata": {},
   "source": [
    "**Q8:** What do you think will happen if we add `Q6` and `Q7` together? Add the two Series together and call the new Series `Q8`. Did it do what you expected?"
   ]
  },
  {
   "cell_type": "code",
   "execution_count": 9,
   "metadata": {},
   "outputs": [],
   "source": [
    "Q8 = Q6+Q7"
   ]
  },
  {
   "cell_type": "markdown",
   "metadata": {},
   "source": [
    "**Q9:** Perform the following tasks:\n",
    "- make a copy of the `Q8` Series and call it `Q9` \n",
    "- Drop the null values from `Q9`. \n",
    "- Add a `name` attribute for the Series object as `population`. \n",
    "- Add a `name` attribute for the index as `state`."
   ]
  },
  {
   "cell_type": "code",
   "execution_count": 10,
   "metadata": {},
   "outputs": [],
   "source": [
    "Q9 = Q8.copy()\n",
    "\n",
    "Q9 = Q9.dropna()\n",
    "Q9.name='population'\n",
    "Q9.index.name='state'"
   ]
  },
  {
   "cell_type": "markdown",
   "metadata": {},
   "source": [
    "## DataFrame"
   ]
  },
  {
   "cell_type": "markdown",
   "metadata": {},
   "source": [
    "**Q10:** Using the below Python dictionary, create a DataFrame called `Q10`."
   ]
  },
  {
   "cell_type": "code",
   "execution_count": 11,
   "metadata": {},
   "outputs": [],
   "source": [
    "# code will vary from student to student\n",
    "data = {'book':['The Way of Kings','A Game of Thrones','The Hobbit',\n",
    "                \"Harry Potter and the Sorcerer's Stone\",'The Lion, the Witch, and the Wardrobe'],\n",
    "        'year_published': [2010,1996,1937,1997,1950],\n",
    "        'amazon_rating': [5,4.5,5,5,5]}\n",
    "    \n",
    "Q10=pd.DataFrame(data)"
   ]
  },
  {
   "cell_type": "markdown",
   "metadata": {},
   "source": [
    "**Q11:** Make a copy of the `Q10` DataFrame and call it `Q11`.  Add a fourth column called `copies_owned` and assign a scalar value of `1` to every row."
   ]
  },
  {
   "cell_type": "code",
   "execution_count": 12,
   "metadata": {},
   "outputs": [],
   "source": [
    "Q11 = Q10.copy()\n",
    "\n",
    "Q11['copies_owned']=1"
   ]
  },
  {
   "cell_type": "markdown",
   "metadata": {},
   "source": [
    "**Q12:** Make a copy of `Q11` and call it `Q12`. Remove the fourth column called `copies_owned` for the `Q12` DataFrame. "
   ]
  },
  {
   "cell_type": "code",
   "execution_count": 13,
   "metadata": {},
   "outputs": [],
   "source": [
    "Q12 = Q11.copy()\n",
    "\n",
    "del Q12['copies_owned']"
   ]
  },
  {
   "cell_type": "markdown",
   "metadata": {},
   "source": [
    "**Q13:** Create a DataFrame called `Q13` using the below nested dictionary of dictionaries. (Note: outer keys are interpreted as columns, inner keys as row indices)"
   ]
  },
  {
   "cell_type": "code",
   "execution_count": 14,
   "metadata": {},
   "outputs": [],
   "source": [
    "pop = {'Nevada':{2001: 2.4, 2002: 2.9},\n",
    "      'Ohio': {2000:1.5, 2001: 1.7, 2002: 3.6}}\n",
    "\n",
    "Q13=pd.DataFrame(pop)"
   ]
  },
  {
   "cell_type": "markdown",
   "metadata": {},
   "source": [
    "**Q14:** Swap the columns and rows of `Q13` by using the transpose method `.T` and save this as `Q14`."
   ]
  },
  {
   "cell_type": "code",
   "execution_count": 15,
   "metadata": {},
   "outputs": [],
   "source": [
    "Q14=Q13.T"
   ]
  },
  {
   "cell_type": "markdown",
   "metadata": {},
   "source": [
    "**Q15:** Change the columns in the `Q14` DataFrame to be in year order (earlier to later) and save this as `Q15`."
   ]
  },
  {
   "cell_type": "code",
   "execution_count": 16,
   "metadata": {},
   "outputs": [],
   "source": [
    "Q15=Q14.reindex(columns=[2000,2001,2002])"
   ]
  },
  {
   "cell_type": "markdown",
   "metadata": {},
   "source": [
    "**Q16:** Index only `Nevada` in the `Q15` DataFrame and save this as `Q16`."
   ]
  },
  {
   "cell_type": "code",
   "execution_count": 17,
   "metadata": {},
   "outputs": [],
   "source": [
    "Q16=Q15.loc['Nevada']"
   ]
  },
  {
   "cell_type": "markdown",
   "metadata": {},
   "source": [
    "**Q17:** Select the `2001` column from the `Q15` DataFrame and save this as `Q17`. "
   ]
  },
  {
   "cell_type": "code",
   "execution_count": 18,
   "metadata": {},
   "outputs": [],
   "source": [
    "Q17=Q15[2001]"
   ]
  },
  {
   "cell_type": "markdown",
   "metadata": {},
   "source": [
    "**Q18:**  Select the `Ohio` row and the `2001` and `2002` columns from `Q15` and save this as `Q18`."
   ]
  },
  {
   "cell_type": "code",
   "execution_count": 19,
   "metadata": {},
   "outputs": [],
   "source": [
    "Q18=Q15.loc['Ohio',[2001,2002]]"
   ]
  },
  {
   "cell_type": "markdown",
   "metadata": {},
   "source": [
    "**Q19:** Load the `employees` DataFrame. Filter only the employees that make above $90,000 and save this as `Q19`."
   ]
  },
  {
   "cell_type": "code",
   "execution_count": 20,
   "metadata": {},
   "outputs": [
    {
     "data": {
      "text/html": [
       "<div>\n",
       "<style scoped>\n",
       "    .dataframe tbody tr th:only-of-type {\n",
       "        vertical-align: middle;\n",
       "    }\n",
       "\n",
       "    .dataframe tbody tr th {\n",
       "        vertical-align: top;\n",
       "    }\n",
       "\n",
       "    .dataframe thead th {\n",
       "        text-align: right;\n",
       "    }\n",
       "</style>\n",
       "<table border=\"1\" class=\"dataframe\">\n",
       "  <thead>\n",
       "    <tr style=\"text-align: right;\">\n",
       "      <th></th>\n",
       "      <th>name</th>\n",
       "      <th>age</th>\n",
       "      <th>gender</th>\n",
       "      <th>profession</th>\n",
       "      <th>salary</th>\n",
       "    </tr>\n",
       "  </thead>\n",
       "  <tbody>\n",
       "    <tr>\n",
       "      <th>0</th>\n",
       "      <td>John</td>\n",
       "      <td>25</td>\n",
       "      <td>M</td>\n",
       "      <td>Developer</td>\n",
       "      <td>100000</td>\n",
       "    </tr>\n",
       "    <tr>\n",
       "      <th>1</th>\n",
       "      <td>Jane</td>\n",
       "      <td>27</td>\n",
       "      <td>F</td>\n",
       "      <td>Analyst</td>\n",
       "      <td>80000</td>\n",
       "    </tr>\n",
       "    <tr>\n",
       "      <th>2</th>\n",
       "      <td>Billy</td>\n",
       "      <td>42</td>\n",
       "      <td>M</td>\n",
       "      <td>Admin</td>\n",
       "      <td>75000</td>\n",
       "    </tr>\n",
       "    <tr>\n",
       "      <th>3</th>\n",
       "      <td>Tracy</td>\n",
       "      <td>31</td>\n",
       "      <td>F</td>\n",
       "      <td>Data Scientist</td>\n",
       "      <td>110000</td>\n",
       "    </tr>\n",
       "  </tbody>\n",
       "</table>\n",
       "</div>"
      ],
      "text/plain": [
       "    name  age gender      profession  salary\n",
       "0   John   25      M       Developer  100000\n",
       "1   Jane   27      F         Analyst   80000\n",
       "2  Billy   42      M           Admin   75000\n",
       "3  Tracy   31      F  Data Scientist  110000"
      ]
     },
     "execution_count": 20,
     "metadata": {},
     "output_type": "execute_result"
    }
   ],
   "source": [
    "table =  {'name': ['John', 'Jane', 'Billy', 'Tracy'],\n",
    "         'age': [25, 27, 42, 31],\n",
    "          'gender': ['M','F','M','F'],\n",
    "         'profession': ['Developer', 'Analyst', 'Admin', 'Data Scientist'],\n",
    "         'salary':[100000, 80000, 75000, 110000]\n",
    "         }\n",
    "\n",
    "employees = pd.DataFrame(table)\n",
    "employees"
   ]
  },
  {
   "cell_type": "code",
   "execution_count": 21,
   "metadata": {},
   "outputs": [],
   "source": [
    "Q19=employees[employees['salary']>90000]"
   ]
  },
  {
   "cell_type": "markdown",
   "metadata": {},
   "source": [
    "**Q20:** Select only the names of the employees that make under $90,000 and save this as `Q20`."
   ]
  },
  {
   "cell_type": "code",
   "execution_count": 22,
   "metadata": {},
   "outputs": [],
   "source": [
    "Q20=employees[employees['salary']<90000]['name']"
   ]
  },
  {
   "cell_type": "markdown",
   "metadata": {},
   "source": [
    "**Q21:** Select only the names of the employees that make under $90,000 and are over 30 years old.  Save this as `Q21`."
   ]
  },
  {
   "cell_type": "code",
   "execution_count": 23,
   "metadata": {},
   "outputs": [],
   "source": [
    "Q21=employees[(employees['salary']<90000) & (employees['age']>30)]['name']"
   ]
  },
  {
   "cell_type": "markdown",
   "metadata": {},
   "source": [
    "**Q22:** Our company has grown, and we have hired three new employees. Create a new DataFrame called `Q22` that adds these employees (`new_hires`) to the original DataFrame `employees`. Make sure that the index for the new DataFrame is labeled as `0` - `n-1`."
   ]
  },
  {
   "cell_type": "code",
   "execution_count": 24,
   "metadata": {},
   "outputs": [],
   "source": [
    "new_hires = {'name': ['Emily','Lukas','Janelle'],\n",
    "            'age': [22, np.nan, 52],\n",
    "             'gender': ['F','M','F'],\n",
    "            'profession': ['Project Manager','ML Engineer','CIO'],\n",
    "            'salary': [np.nan,135000,230000]}\n",
    "\n",
    "Q22=pd.concat([employees, pd.DataFrame(new_hires)], ignore_index=True)"
   ]
  },
  {
   "cell_type": "markdown",
   "metadata": {},
   "source": [
    "**Q23:**  Create a copy of `Q22` and save it as `Q23`.  Drop all rows that contain missing values from the `Q23` DataFrame."
   ]
  },
  {
   "cell_type": "code",
   "execution_count": 25,
   "metadata": {},
   "outputs": [],
   "source": [
    "Q23 = Q22.copy()\n",
    "\n",
    "Q23=Q23.dropna()"
   ]
  },
  {
   "cell_type": "markdown",
   "metadata": {},
   "source": [
    "**Q24:** Make a copy of the `Q22` DataFrame and save it as `Q24`.  Add a new column called `departments` to the `Q24` DataFrame using the list below."
   ]
  },
  {
   "cell_type": "code",
   "execution_count": 26,
   "metadata": {},
   "outputs": [],
   "source": [
    "departments = ['IT','IT','Administration','IT','Communications','IT','Executive']\n",
    "\n",
    "Q24 = Q22.copy()\n",
    "\n",
    "Q24['departments']=departments"
   ]
  },
  {
   "cell_type": "markdown",
   "metadata": {},
   "source": [
    "**Q25:** Make a copy of the `Q24` DataFrame and save it as `Q25`.  You heard back from HR that Emily's salary should equal the employee with the lowest salary. Fill this missing value in `Q25` with the minimum salary (use `fillna()` and `min()` instead of hard coding the salary)."
   ]
  },
  {
   "cell_type": "code",
   "execution_count": 27,
   "metadata": {},
   "outputs": [],
   "source": [
    "Q25 = Q24.copy()\n",
    "\n",
    "Q25['salary']=Q25['salary'].fillna((Q25['salary'].min()))"
   ]
  },
  {
   "cell_type": "markdown",
   "metadata": {},
   "source": [
    "**Q26:** Make a copy of `Q25` and save it as `Q26`.  Add Lukas' age of `54` to the `Q26` DataFrame."
   ]
  },
  {
   "cell_type": "code",
   "execution_count": 28,
   "metadata": {},
   "outputs": [],
   "source": [
    "Q26 = Q25.copy()\n",
    "\n",
    "Q26.loc[Q26['name']=='Lukas', 'age']=54"
   ]
  },
  {
   "cell_type": "markdown",
   "metadata": {},
   "source": [
    "**Q27:** Sort the `Q26` DataFrame by the `age` column from youngest to oldest employee and save this as `Q27`."
   ]
  },
  {
   "cell_type": "code",
   "execution_count": 29,
   "metadata": {},
   "outputs": [],
   "source": [
    "Q27=Q26.sort_values(by='age')"
   ]
  },
  {
   "cell_type": "markdown",
   "metadata": {},
   "source": [
    "**Q28:** Sort the `Q26` DataFrame in descending order by `salary` and save this as `Q28`."
   ]
  },
  {
   "cell_type": "code",
   "execution_count": 30,
   "metadata": {},
   "outputs": [],
   "source": [
    "Q28=Q26.sort_values(by='salary', ascending=False)"
   ]
  },
  {
   "cell_type": "markdown",
   "metadata": {},
   "source": [
    "**Q29:** Using `value_counts()`, how many employees in the `Q28` DataFrame does each department have?  Save this as `Q29`."
   ]
  },
  {
   "cell_type": "code",
   "execution_count": 31,
   "metadata": {},
   "outputs": [],
   "source": [
    "Q29= Q28['departments'].value_counts()"
   ]
  },
  {
   "cell_type": "markdown",
   "metadata": {},
   "source": [
    "**Q30:** Make a copy of the `Q28` DataFrame and save it as `Q30`.  Rename the `name` column in `Q30` to `employee_name`.  "
   ]
  },
  {
   "cell_type": "code",
   "execution_count": 32,
   "metadata": {},
   "outputs": [],
   "source": [
    "Q30 = Q28.copy()\n",
    "\n",
    "Q30=Q30.rename(columns={'name':'employee_name'})"
   ]
  },
  {
   "cell_type": "markdown",
   "metadata": {},
   "source": [
    "Good work!"
   ]
  }
 ],
 "metadata": {
  "kernelspec": {
   "display_name": "Python 3 (ipykernel)",
   "language": "python",
   "name": "python3"
  },
  "language_info": {
   "codemirror_mode": {
    "name": "ipython",
    "version": 3
   },
   "file_extension": ".py",
   "mimetype": "text/x-python",
   "name": "python",
   "nbconvert_exporter": "python",
   "pygments_lexer": "ipython3",
   "version": "3.9.7"
  }
 },
 "nbformat": 4,
 "nbformat_minor": 4
}
