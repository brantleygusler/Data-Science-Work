{
 "cells": [
  {
   "cell_type": "markdown",
   "metadata": {},
   "source": [
    "# DataFrame Loop Optimization"
   ]
  },
  {
   "cell_type": "code",
   "execution_count": null,
   "metadata": {},
   "outputs": [],
   "source": [
    "# common imports\n",
    "import pandas as pd\n",
    "import numpy as np\n",
    "import warnings\n",
    "warnings.filterwarnings('ignore')"
   ]
  },
  {
   "cell_type": "markdown",
   "metadata": {},
   "source": [
    "Let's start out by creating a DataFrame with 100,000 review scores similar to the review scores we discussed in the AirBnb data."
   ]
  },
  {
   "cell_type": "code",
   "execution_count": null,
   "metadata": {},
   "outputs": [],
   "source": [
    "#set random seed\n",
    "np.random.seed(42)\n",
    "\n",
    "# create sample DataFrame of 100,000 review scores\n",
    "df = pd.DataFrame(np.random.randint(0,100, size = 100000), \n",
    "                  columns=['review_score'])\n",
    "\n",
    "df"
   ]
  },
  {
   "cell_type": "markdown",
   "metadata": {},
   "source": [
    "Next, let's say that we want to add a new column called `review_stars` that follows the following mapping:\n",
    "\n",
    "- 0 - 20: 'One Star'\n",
    "\n",
    "- 21 - 40: 'Two Stars'\n",
    "\n",
    "- 41 - 60: 'Three Stars'\n",
    "\n",
    "- 61 - 80: 'Four Stars'\n",
    "\n",
    "- 81 - 100: 'Five Stars'\n",
    "\n",
    "*Note: We will not worry about creating categorical data types for this example."
   ]
  },
  {
   "cell_type": "markdown",
   "metadata": {},
   "source": [
    "## Basic Loops\n",
    "\n",
    "Let's first use a basic Python loop to perform this task and calculate the total computation time."
   ]
  },
  {
   "cell_type": "code",
   "execution_count": null,
   "metadata": {},
   "outputs": [],
   "source": [
    "def basic_loop(df):\n",
    "    # create an empty column to use in the loop\n",
    "    df['review_stars'] = ''\n",
    "    \n",
    "    # loop through review_scores, creating new review_stars column\n",
    "    for value in range(len(df)):\n",
    "        if df['review_score'][value] >= 0 and df['review_score'][value] <= 20:\n",
    "            df['review_stars'].iloc[value] = 'One Star'\n",
    "        \n",
    "        elif df['review_score'][value] >= 21 and df['review_score'][value] <= 40:\n",
    "            df['review_stars'].iloc[value] = 'Two Stars'\n",
    "        \n",
    "        elif df['review_score'][value] >= 41 and df['review_score'][value] <= 60:\n",
    "            df['review_stars'].iloc[value] = 'Three Stars'\n",
    "        \n",
    "        elif df['review_score'][value] >= 61 and df['review_score'][value] <= 80:\n",
    "            df['review_stars'].iloc[value] = 'Four Stars'\n",
    "        \n",
    "        else: df['review_stars'].iloc[value] = 'Five Stars'"
   ]
  },
  {
   "cell_type": "code",
   "execution_count": null,
   "metadata": {},
   "outputs": [],
   "source": [
    "%%timeit\n",
    "basic_loop(df)"
   ]
  },
  {
   "cell_type": "code",
   "execution_count": null,
   "metadata": {},
   "outputs": [],
   "source": [
    "# check DataFrame\n",
    "df"
   ]
  },
  {
   "cell_type": "markdown",
   "metadata": {},
   "source": [
    "## Iterrows\n",
    "\n",
    "From Pandas documentation:\n",
    "- The Pandas' method `iterrows` iterates over the DataFrame rows as (Index, Series) pairs. \n",
    "- Because iterrows returns a Series for each row, it does not preserve dtypes across the rows (dtypes are preserved across columns for DataFrames)\n",
    "- To preserve dtypes while iterating over the rows, it is better to use `itertuples()` which returns named tuples of the values and which is generally faster than iterrows\n",
    "- You should never modify something you are iterating over"
   ]
  },
  {
   "cell_type": "code",
   "execution_count": null,
   "metadata": {},
   "outputs": [],
   "source": [
    "# Documentation example to show dtypes\n",
    "df2 = pd.DataFrame([[1, 1.5]], columns=['int', 'float'])\n",
    "df2"
   ]
  },
  {
   "cell_type": "code",
   "execution_count": null,
   "metadata": {},
   "outputs": [],
   "source": [
    "# check data types\n",
    "df2.info()"
   ]
  },
  {
   "cell_type": "code",
   "execution_count": null,
   "metadata": {},
   "outputs": [],
   "source": [
    "row = next(df2.iterrows())[1]\n",
    "row"
   ]
  },
  {
   "cell_type": "code",
   "execution_count": null,
   "metadata": {},
   "outputs": [],
   "source": [
    "# check data types again\n",
    "print(row['int'].dtype)\n",
    "print(df2['int'].dtype)"
   ]
  },
  {
   "cell_type": "code",
   "execution_count": null,
   "metadata": {},
   "outputs": [],
   "source": [
    "count = 0\n",
    "for i, s in df.iterrows():\n",
    "    print(i)\n",
    "    print('----')\n",
    "#     print(s)\n",
    "    print(s[0])\n",
    "    print('--------')\n",
    "    count += 1\n",
    "    if count == 5:\n",
    "        break"
   ]
  },
  {
   "cell_type": "code",
   "execution_count": null,
   "metadata": {},
   "outputs": [],
   "source": [
    "# create function to work with iterrows()\n",
    "def iterrows_loop(i,s):\n",
    "        if s[0] >= 0 and s[0] <= 20:\n",
    "            return 'One Star'\n",
    "        elif s[0] >= 21 and s[0] <= 40:\n",
    "            return 'Two Stars'\n",
    "        elif s[0] >= 41 and s[0] <= 60:\n",
    "            return 'Three Stars'\n",
    "        elif s[0] >= 61 and s[0] <= 80:\n",
    "            return 'Four Stars'\n",
    "        else: return 'Five Stars'"
   ]
  },
  {
   "cell_type": "code",
   "execution_count": null,
   "metadata": {},
   "outputs": [],
   "source": [
    "%%timeit\n",
    "\n",
    "# create empty list\n",
    "output_list = []\n",
    "\n",
    "# iterate over rows\n",
    "for i, s in df.iterrows():\n",
    "    output_list.append(iterrows_loop(i, s))\n",
    "\n",
    "# add list as new column\n",
    "df['review_stars2'] = output_list"
   ]
  },
  {
   "cell_type": "markdown",
   "metadata": {},
   "source": [
    "## Using Apply()"
   ]
  },
  {
   "cell_type": "code",
   "execution_count": null,
   "metadata": {},
   "outputs": [],
   "source": [
    "# create function to work with apply\n",
    "def buckets(x):\n",
    "    if x >= 0 and x <= 20:\n",
    "        return 'One Star'\n",
    "    elif x >= 21 and x <= 40:\n",
    "        return  'Two Stars'\n",
    "    elif x >= 41 and x <= 60:\n",
    "        return  'Three Stars'\n",
    "    elif x >= 61 and x <= 80:\n",
    "        return  'Four Stars'\n",
    "    else: return  'Five Stars'"
   ]
  },
  {
   "cell_type": "code",
   "execution_count": null,
   "metadata": {},
   "outputs": [],
   "source": [
    "%%timeit\n",
    "df['review_stars3'] = df.apply(lambda row: buckets(row['review_score']), axis=1)"
   ]
  },
  {
   "cell_type": "markdown",
   "metadata": {},
   "source": [
    "## Intertuples()\n",
    "\n",
    "Iterate over DataFrame rows as named tuples."
   ]
  },
  {
   "cell_type": "code",
   "execution_count": null,
   "metadata": {},
   "outputs": [],
   "source": [
    "count = 0\n",
    "\n",
    "for row in df.itertuples():\n",
    "#     print(row)\n",
    "    print(row[1])\n",
    "    print('----')\n",
    "    count += 1\n",
    "    if count == 5:\n",
    "        break"
   ]
  },
  {
   "cell_type": "code",
   "execution_count": null,
   "metadata": {},
   "outputs": [],
   "source": [
    "# create function to work with intertuples()\n",
    "def itertuples_loop(r):\n",
    "        if r[1] >= 0 and r[1] <= 20:\n",
    "            return 'One Star'\n",
    "        elif r[1] >= 21 and r[1] <= 40:\n",
    "            return 'Two Stars'\n",
    "        elif r[1] >= 41 and r[1] <= 60:\n",
    "            return 'Three Stars'\n",
    "        elif r[1] >= 61 and r[1] <= 80:\n",
    "            return 'Four Stars'\n",
    "        else: return 'Five Stars'"
   ]
  },
  {
   "cell_type": "code",
   "execution_count": null,
   "metadata": {},
   "outputs": [],
   "source": [
    "%%timeit\n",
    "\n",
    "# create empty list\n",
    "output_list = []\n",
    "\n",
    "# iterate using itertuples\n",
    "for row in df.itertuples():\n",
    "    output_list.append(itertuples_loop(row))\n",
    "\n",
    "# create new column using list\n",
    "df['review_stars4'] = output_list"
   ]
  },
  {
   "cell_type": "markdown",
   "metadata": {},
   "source": [
    "## np.where()"
   ]
  },
  {
   "cell_type": "code",
   "execution_count": null,
   "metadata": {},
   "outputs": [],
   "source": [
    "%%timeit\n",
    "\n",
    "df['review_stars5'] = np.where((df['review_score'] >= 0) & (df['review_score'] <= 20), 'One Star', \n",
    "                         np.where((df['review_score'] >= 21) & (df['review_score'] <= 40), 'Two Stars',\n",
    "                         np.where((df['review_score'] >= 41) & (df['review_score'] <= 60),'Three Stars', \n",
    "                         np.where((df['review_score'] >= 61) & (df['review_score'] <= 80),'Four Stars',\n",
    "                         'Five Stars'))))"
   ]
  },
  {
   "cell_type": "markdown",
   "metadata": {},
   "source": [
    "## Pandas Vectorization\n",
    "\n",
    "https://stackoverflow.com/questions/1422149/what-is-vectorization"
   ]
  },
  {
   "cell_type": "code",
   "execution_count": null,
   "metadata": {},
   "outputs": [],
   "source": [
    "def pd_vector(score):\n",
    "    df.loc[(score >= 0) & (score <= 20), 'review_scores6'] = 'One Star'\n",
    "    df.loc[(score >= 21) & (score <= 40), 'review_scores6'] = 'Two Stars'\n",
    "    df.loc[(score >= 41) & (score <= 60), 'review_scores6'] = 'Three Stars'\n",
    "    df.loc[(score >= 61) & (score <= 80), 'review_scores6'] = 'Four Stars'\n",
    "    df.loc[(score >= 81),'review_scores6'] = 'Five Stars'"
   ]
  },
  {
   "cell_type": "code",
   "execution_count": null,
   "metadata": {},
   "outputs": [],
   "source": [
    "%%timeit\n",
    "pd_vector(df['review_score'])"
   ]
  },
  {
   "cell_type": "markdown",
   "metadata": {},
   "source": [
    "## Numpy Vectorization"
   ]
  },
  {
   "cell_type": "code",
   "execution_count": null,
   "metadata": {},
   "outputs": [],
   "source": [
    "def pd_vector_array(score):\n",
    "    df.loc[(score >= 0) & (score <= 20), 'review_scores7'] = 'One Star'\n",
    "    df.loc[(score >= 21) & (score <= 40), 'review_scores7'] = 'Two Stars'\n",
    "    df.loc[(score >= 41) & (score <= 60), 'review_scores7'] = 'Three Stars'\n",
    "    df.loc[(score >= 61) & (score <= 80), 'review_scores7'] = 'Four Stars'\n",
    "    df.loc[(score >= 81),'review_scores7'] = 'Five Stars'"
   ]
  },
  {
   "cell_type": "code",
   "execution_count": null,
   "metadata": {},
   "outputs": [],
   "source": [
    "%%timeit\n",
    "pd_vector_array(df['review_score'].values)"
   ]
  },
  {
   "cell_type": "markdown",
   "metadata": {},
   "source": [
    "## Binning "
   ]
  },
  {
   "cell_type": "code",
   "execution_count": null,
   "metadata": {},
   "outputs": [],
   "source": [
    "%%timeit\n",
    "df.loc[:,'review_stars8'] = pd.cut(x=df['review_score'], bins=[0, 20, 40, 60, 80, 100],\n",
    "                                            labels=['One Star','Two Stars','Three Stars','Four Stars','Five Stars'])"
   ]
  },
  {
   "cell_type": "markdown",
   "metadata": {},
   "source": [
    "## View Final DataFrame"
   ]
  },
  {
   "cell_type": "code",
   "execution_count": null,
   "metadata": {},
   "outputs": [],
   "source": [
    "df"
   ]
  }
 ],
 "metadata": {
  "kernelspec": {
   "display_name": "Python 3 (ipykernel)",
   "language": "python",
   "name": "python3"
  },
  "language_info": {
   "codemirror_mode": {
    "name": "ipython",
    "version": 3
   },
   "file_extension": ".py",
   "mimetype": "text/x-python",
   "name": "python",
   "nbconvert_exporter": "python",
   "pygments_lexer": "ipython3",
   "version": "3.9.7"
  }
 },
 "nbformat": 4,
 "nbformat_minor": 4
}
