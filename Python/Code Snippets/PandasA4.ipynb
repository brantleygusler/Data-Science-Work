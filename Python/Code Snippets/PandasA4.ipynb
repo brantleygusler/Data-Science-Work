{
 "cells": [
  {
   "cell_type": "code",
   "execution_count": 1,
   "id": "a8b67a85",
   "metadata": {},
   "outputs": [],
   "source": [
    "import numpy as np\n",
    "import pandas as pd"
   ]
  },
  {
   "cell_type": "code",
   "execution_count": 13,
   "id": "2ac93fb0",
   "metadata": {},
   "outputs": [],
   "source": [
    "Q1=np.array([2, np.nan, 6, 7, 3, 2])"
   ]
  },
  {
   "cell_type": "code",
   "execution_count": 9,
   "id": "106fe779",
   "metadata": {},
   "outputs": [],
   "source": [
    "Q2=np.nansum(Q1)"
   ]
  },
  {
   "cell_type": "code",
   "execution_count": 15,
   "id": "b105d3c6",
   "metadata": {},
   "outputs": [],
   "source": [
    "Q3=pd.Series([4.0, 5.0, 2.0, np.nan, 1.0, np.nan], \n",
    "             index=[0, 1, 2, 3, 4, 5])"
   ]
  },
  {
   "cell_type": "code",
   "execution_count": 16,
   "id": "2eda126a",
   "metadata": {},
   "outputs": [],
   "source": [
    "Q4=Q3.isnull()"
   ]
  },
  {
   "cell_type": "code",
   "execution_count": 57,
   "id": "de922ba3",
   "metadata": {},
   "outputs": [],
   "source": [
    "Q5=pd.Series([4.0, 5.0, 2.0, np.nan, 1.0, np.nan], \n",
    "             index=[0, 1, 2, 3, 4, 5])\n",
    "Q5=Q5.dropna()"
   ]
  },
  {
   "cell_type": "code",
   "execution_count": 56,
   "id": "7bca8bf3",
   "metadata": {},
   "outputs": [],
   "source": [
    "Q6=pd.Series([4.0, 5.0, 2.0, np.nan, 1.0, np.nan], \n",
    "             index=[0, 1, 2, 3, 4, 5])\n",
    "Q6=Q6.fillna(100)"
   ]
  },
  {
   "cell_type": "code",
   "execution_count": 53,
   "id": "8d66f8d8",
   "metadata": {},
   "outputs": [],
   "source": [
    "n=pd.Series([4, 5, 6], \n",
    "             index=[0, 1, 2])\n",
    "m=pd.Series([5.0, 6.0, np.nan], \n",
    "             index=[0, 1, 2])\n",
    "o=pd.Series([2.0, np.nan, 7.0], \n",
    "             index=[0, 1, 2])\n",
    "p=pd.Series([9.0, 3.0, np.nan], \n",
    "             index=[0, 1, 2])\n",
    "q=pd.Series([1.0, np.nan, 4.0], \n",
    "             index=[0, 1, 2])\n",
    "r=pd.Series([8, 2, 3], \n",
    "             index=[0, 1, 2])\n",
    "\n",
    "\n",
    "Q7=pd.DataFrame({0: n,\n",
    "                 1: m,\n",
    "                 2: o,\n",
    "                 3: p,\n",
    "                 4: q,\n",
    "                 5: r})\n",
    "Q7=Q7.fillna(100)"
   ]
  },
  {
   "cell_type": "code",
   "execution_count": 55,
   "id": "bd581842",
   "metadata": {},
   "outputs": [],
   "source": [
    "Q8=pd.Series([4.0, 5.0, 2.0, np.nan, 1.0, np.nan], \n",
    "             index=[0, 1, 2, 3, 4, 5])\n",
    "Q8=Q8.dropna()"
   ]
  },
  {
   "cell_type": "code",
   "execution_count": 65,
   "id": "ac0362a4",
   "metadata": {},
   "outputs": [],
   "source": [
    "s=pd.Series([4, 5, 6], \n",
    "             index=[0, 1, 2])\n",
    "t=pd.Series([5.0, 6.0, np.nan], \n",
    "             index=[0, 1, 2])\n",
    "u=pd.Series([2.0, np.nan, 7.0], \n",
    "             index=[0, 1, 2])\n",
    "v=pd.Series([9.0, 3.0, np.nan], \n",
    "             index=[0, 1, 2])\n",
    "w=pd.Series([1.0, np.nan, 4.0], \n",
    "             index=[0, 1, 2])\n",
    "x=pd.Series([8, 2, 3], \n",
    "             index=[0, 1, 2])\n",
    "\n",
    "\n",
    "Q9=pd.DataFrame({0: s,\n",
    "                 1: t,\n",
    "                 2: u,\n",
    "                 3: v,\n",
    "                 4: w,\n",
    "                 5: x})\n",
    "Q9=Q9.dropna(axis='columns')"
   ]
  },
  {
   "cell_type": "code",
   "execution_count": 68,
   "id": "4e1cfa19",
   "metadata": {},
   "outputs": [],
   "source": [
    "s=pd.Series([4, 5, 6], \n",
    "             index=[0, 1, 2])\n",
    "t=pd.Series([5.0, 6.0, np.nan], \n",
    "             index=[0, 1, 2])\n",
    "u=pd.Series([2.0, np.nan, 7.0], \n",
    "             index=[0, 1, 2])\n",
    "v=pd.Series([9.0, 3.0, np.nan], \n",
    "             index=[0, 1, 2])\n",
    "w=pd.Series([1.0, np.nan, 4.0], \n",
    "             index=[0, 1, 2])\n",
    "x=pd.Series([8, 2, 3], \n",
    "             index=[0, 1, 2])\n",
    "\n",
    "\n",
    "Q10=pd.DataFrame({0: s,\n",
    "                 1: t,\n",
    "                 2: u,\n",
    "                 3: v,\n",
    "                 4: w,\n",
    "                 5: x})\n",
    "Q10=Q10.dropna(axis='rows')"
   ]
  },
  {
   "cell_type": "code",
   "execution_count": 70,
   "id": "fa78d3bb",
   "metadata": {},
   "outputs": [],
   "source": [
    "s=pd.Series([4, 5, 6], \n",
    "             index=[0, 1, 2])\n",
    "t=pd.Series([5.0, 6.0, np.nan], \n",
    "             index=[0, 1, 2])\n",
    "u=pd.Series([2.0, np.nan, 7.0], \n",
    "             index=[0, 1, 2])\n",
    "v=pd.Series([9.0, 3.0, np.nan], \n",
    "             index=[0, 1, 2])\n",
    "w=pd.Series([1.0, np.nan, 4.0], \n",
    "             index=[0, 1, 2])\n",
    "x=pd.Series([8, 2, 3], \n",
    "             index=[0, 1, 2])\n",
    "\n",
    "\n",
    "Q11=pd.DataFrame({0: s,\n",
    "                 1: t,\n",
    "                 2: u,\n",
    "                 3: v,\n",
    "                 4: w,\n",
    "                 5: x})\n",
    "Q11=Q11.dropna(axis='rows')"
   ]
  },
  {
   "cell_type": "code",
   "execution_count": 74,
   "id": "a4e097bd",
   "metadata": {},
   "outputs": [],
   "source": [
    "s=pd.Series([4, 5, 6], \n",
    "             index=[0, 1, 2])\n",
    "t=pd.Series([5.0, 6.0, np.nan], \n",
    "             index=[0, 1, 2])\n",
    "u=pd.Series([2.0, np.nan, 7.0], \n",
    "             index=[0, 1, 2])\n",
    "v=pd.Series([9.0, 3.0, np.nan], \n",
    "             index=[0, 1, 2])\n",
    "w=pd.Series([1.0, np.nan, 4.0], \n",
    "             index=[0, 1, 2])\n",
    "x=pd.Series([8, 2, 3], \n",
    "             index=[0, 1, 2])\n",
    "\n",
    "\n",
    "Q12=pd.DataFrame({0: s,\n",
    "                 1: t,\n",
    "                 2: u,\n",
    "                 3: v,\n",
    "                 4: w,\n",
    "                 5: x})"
   ]
  },
  {
   "cell_type": "code",
   "execution_count": 72,
   "id": "6375dbb9",
   "metadata": {},
   "outputs": [],
   "source": [
    "Q12[6]=np.nan"
   ]
  }
 ],
 "metadata": {
  "kernelspec": {
   "display_name": "Python 3 (ipykernel)",
   "language": "python",
   "name": "python3"
  },
  "language_info": {
   "codemirror_mode": {
    "name": "ipython",
    "version": 3
   },
   "file_extension": ".py",
   "mimetype": "text/x-python",
   "name": "python",
   "nbconvert_exporter": "python",
   "pygments_lexer": "ipython3",
   "version": "3.9.7"
  }
 },
 "nbformat": 4,
 "nbformat_minor": 5
}
