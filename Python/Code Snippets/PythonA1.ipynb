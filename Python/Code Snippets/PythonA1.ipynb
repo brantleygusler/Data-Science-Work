{
 "cells": [
  {
   "cell_type": "code",
   "execution_count": 1,
   "id": "c5b9fbc3",
   "metadata": {},
   "outputs": [],
   "source": [
    "Q1=\"Welcome to EU!\""
   ]
  },
  {
   "cell_type": "code",
   "execution_count": 3,
   "id": "c9a3f39d",
   "metadata": {},
   "outputs": [],
   "source": [
    "Q2=Q1[11:14]"
   ]
  },
  {
   "cell_type": "code",
   "execution_count": 8,
   "id": "f911dd43",
   "metadata": {},
   "outputs": [],
   "source": [
    "Q3=Q1[5:11]"
   ]
  },
  {
   "cell_type": "code",
   "execution_count": 13,
   "id": "b549b641",
   "metadata": {},
   "outputs": [],
   "source": [
    "Q4=['Eric Camacho', 'Elmer Felicitas', 'Shankar Lucrece', 'Gitta Nevena', 'Rasmus Tarquinius']"
   ]
  },
  {
   "cell_type": "code",
   "execution_count": 14,
   "id": "c95ebfad",
   "metadata": {},
   "outputs": [],
   "source": [
    "Q5=[7, '7', 'Seven', 7.0]"
   ]
  },
  {
   "cell_type": "code",
   "execution_count": 21,
   "id": "31d20077",
   "metadata": {},
   "outputs": [],
   "source": [
    "Q6=Q4[3:]"
   ]
  },
  {
   "cell_type": "code",
   "execution_count": 25,
   "id": "0cca3fe6",
   "metadata": {},
   "outputs": [],
   "source": [
    "Q7=Q5[1:3]"
   ]
  },
  {
   "cell_type": "code",
   "execution_count": 27,
   "id": "3c1658a6",
   "metadata": {},
   "outputs": [],
   "source": [
    "mylist=[4, 8, 11, 3, 19, 2, 5, 8, 12, 9]"
   ]
  },
  {
   "cell_type": "code",
   "execution_count": 28,
   "id": "ba35b554",
   "metadata": {},
   "outputs": [],
   "source": [
    "Q8=mylist[0:3]"
   ]
  },
  {
   "cell_type": "code",
   "execution_count": 30,
   "id": "f38fc6d2",
   "metadata": {},
   "outputs": [],
   "source": [
    "Q9=mylist[7:]"
   ]
  },
  {
   "cell_type": "code",
   "execution_count": 32,
   "id": "31c92d28",
   "metadata": {},
   "outputs": [],
   "source": [
    "Q10=mylist[2:6]"
   ]
  },
  {
   "cell_type": "code",
   "execution_count": 34,
   "id": "f37802aa",
   "metadata": {},
   "outputs": [],
   "source": [
    "Q11=mylist[5:7]"
   ]
  }
 ],
 "metadata": {
  "kernelspec": {
   "display_name": "Python 3 (ipykernel)",
   "language": "python",
   "name": "python3"
  },
  "language_info": {
   "codemirror_mode": {
    "name": "ipython",
    "version": 3
   },
   "file_extension": ".py",
   "mimetype": "text/x-python",
   "name": "python",
   "nbconvert_exporter": "python",
   "pygments_lexer": "ipython3",
   "version": "3.9.7"
  }
 },
 "nbformat": 4,
 "nbformat_minor": 5
}
