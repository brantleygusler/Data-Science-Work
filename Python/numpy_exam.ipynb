{
 "cells": [
  {
   "cell_type": "markdown",
   "metadata": {},
   "source": [
    "# NumPy Exam"
   ]
  },
  {
   "cell_type": "markdown",
   "metadata": {},
   "source": [
    "Import numpy as np and check your version."
   ]
  },
  {
   "cell_type": "code",
   "execution_count": 1,
   "metadata": {},
   "outputs": [
    {
     "name": "stdout",
     "output_type": "stream",
     "text": [
      "1.20.3\n"
     ]
    }
   ],
   "source": [
    "import numpy as np\n",
    "print(np.__version__)"
   ]
  },
  {
   "cell_type": "markdown",
   "metadata": {},
   "source": [
    "**Q1:** Create a 1D array of numbers from `0` to `9` and save it as `Q1`."
   ]
  },
  {
   "cell_type": "code",
   "execution_count": 2,
   "metadata": {},
   "outputs": [],
   "source": [
    "Q1=np.arange(10)"
   ]
  },
  {
   "cell_type": "markdown",
   "metadata": {},
   "source": [
    "**Q2:** Create a 1D array of numbers from `10` to `49` and save it as `Q2`."
   ]
  },
  {
   "cell_type": "code",
   "execution_count": 3,
   "metadata": {},
   "outputs": [],
   "source": [
    "Q2=np.arange(10,50)"
   ]
  },
  {
   "cell_type": "markdown",
   "metadata": {},
   "source": [
    "**Q3:** Copy the `Q2` array and save it as `Q3`.  Reverse the values in the `Q3` array (first element becomes the last)."
   ]
  },
  {
   "cell_type": "code",
   "execution_count": 4,
   "metadata": {},
   "outputs": [],
   "source": [
    "# make a copy of the previous array to prevent a \"view\" from being created\n",
    "Q3 = Q2.copy()\n",
    "\n",
    "Q3=Q3[::-1]"
   ]
  },
  {
   "cell_type": "markdown",
   "metadata": {},
   "source": [
    "**Q4:** Create a `3x3` matrix with values ranging from `1` to `9` and save it as `Q4`."
   ]
  },
  {
   "cell_type": "code",
   "execution_count": 5,
   "metadata": {},
   "outputs": [],
   "source": [
    "Q4=np.arange(1,10).reshape(3,3)"
   ]
  },
  {
   "cell_type": "markdown",
   "metadata": {},
   "source": [
    "**Q5:** Set a random seed of `42`. Create a `10x5` array with random values and save it as `Q5`.  Use [np.random.random()](https://numpy.org/doc/stable/reference/random/generated/numpy.random.random.html#).  As a check, your first row of the array should be: `[0.37454012, 0.95071431, 0.73199394, 0.59865848, 0.15601864]`"
   ]
  },
  {
   "cell_type": "code",
   "execution_count": 6,
   "metadata": {},
   "outputs": [],
   "source": [
    "np.random.seed(42) \n",
    "\n",
    "Q5=np.random.random((10,5))"
   ]
  },
  {
   "cell_type": "markdown",
   "metadata": {},
   "source": [
    "**Q6:** Find the minimum and maximum values of above `Q5` array, rounding them to 4 decimal places.  Call the values `Q6A` and `Q6B` respectively. "
   ]
  },
  {
   "cell_type": "code",
   "execution_count": 7,
   "metadata": {},
   "outputs": [],
   "source": [
    "Q6A=round(Q5.min(), 4)"
   ]
  },
  {
   "cell_type": "code",
   "execution_count": 8,
   "metadata": {},
   "outputs": [],
   "source": [
    "Q6B=round(Q5.max(), 4)"
   ]
  },
  {
   "cell_type": "markdown",
   "metadata": {},
   "source": [
    "**Q7:** Find the mean value for the above `Q5` array, rounding to 4 decimal places.  Call this value `Q7`."
   ]
  },
  {
   "cell_type": "code",
   "execution_count": 9,
   "metadata": {},
   "outputs": [],
   "source": [
    "Q7=round(Q5.mean(),4)"
   ]
  },
  {
   "cell_type": "markdown",
   "metadata": {},
   "source": [
    "**Q8:** Select all even numbers from the following array and call this output `Q8`.\n",
    "```python\n",
    "arr = np.array([0, 1, 2, 3, 4, 5, 6, 7, 8, 9])\n",
    "```"
   ]
  },
  {
   "cell_type": "code",
   "execution_count": 10,
   "metadata": {},
   "outputs": [],
   "source": [
    "arr = np.array([0, 1, 2, 3, 4, 5, 6, 7, 8, 9])\n",
    "\n",
    "Q8=arr[arr%2==0]"
   ]
  },
  {
   "cell_type": "markdown",
   "metadata": {},
   "source": [
    "**Q9:** Make a copy of the `arr` array and call it `Q9`.  Replace all even numbers from `Q9` with `0`."
   ]
  },
  {
   "cell_type": "code",
   "execution_count": 11,
   "metadata": {},
   "outputs": [],
   "source": [
    "Q9 = arr.copy()\n",
    "\n",
    "Q9[Q9%2==0]=0"
   ]
  },
  {
   "cell_type": "markdown",
   "metadata": {},
   "source": [
    "**Q10:** Use the [where](https://numpy.org/doc/stable/reference/generated/numpy.where.html) method to replace all odd numbers from the above `Q9` array with a `-1` and call it `Q10`."
   ]
  },
  {
   "cell_type": "code",
   "execution_count": 12,
   "metadata": {},
   "outputs": [],
   "source": [
    "Q10=np.where(Q9%2==1,-1,Q9)"
   ]
  },
  {
   "cell_type": "markdown",
   "metadata": {},
   "source": [
    "**Q11** Reshape the above `arr` array to a `2x5` array and call it `Q11`."
   ]
  },
  {
   "cell_type": "code",
   "execution_count": 13,
   "metadata": {},
   "outputs": [],
   "source": [
    "Q11=arr.reshape((2,5))"
   ]
  },
  {
   "cell_type": "markdown",
   "metadata": {},
   "source": [
    "**Q12:** Stack `arr1` and `arr2` (both given below) vertically and call this array `Q12`."
   ]
  },
  {
   "cell_type": "code",
   "execution_count": 14,
   "metadata": {},
   "outputs": [],
   "source": [
    "arr1 = np.arange(10).reshape((2,5))\n",
    "arr2 = np.arange(10,20).reshape((2,5))\n",
    "\n",
    "Q12=np.concatenate([arr1,arr2], axis=0)"
   ]
  },
  {
   "cell_type": "markdown",
   "metadata": {},
   "source": [
    "**Q13:** Stack `arr1` and `arr2` horizontally and call this array `Q13`."
   ]
  },
  {
   "cell_type": "code",
   "execution_count": 15,
   "metadata": {},
   "outputs": [],
   "source": [
    "Q13=np.concatenate([arr1, arr2], axis=1)"
   ]
  },
  {
   "cell_type": "markdown",
   "metadata": {},
   "source": [
    "**Q14:** Swap the first and second columns in the following array called `arr3` and save it as `Q14`."
   ]
  },
  {
   "cell_type": "code",
   "execution_count": 16,
   "metadata": {},
   "outputs": [
    {
     "data": {
      "text/plain": [
       "array([[22, 56, 34],\n",
       "       [54, 12, 42],\n",
       "       [67, 56, 99]])"
      ]
     },
     "execution_count": 16,
     "metadata": {},
     "output_type": "execute_result"
    }
   ],
   "source": [
    "arr3 = np.array([22,56,34,54,12,42,67,56,99]).reshape((3,3))\n",
    "arr3"
   ]
  },
  {
   "cell_type": "code",
   "execution_count": 17,
   "metadata": {},
   "outputs": [],
   "source": [
    "Q14=arr3[:,[1,0,2]]"
   ]
  },
  {
   "cell_type": "markdown",
   "metadata": {},
   "source": [
    "**Q15:** Swap rows 1 and 2 in the above `Q14` array and call it `Q15`."
   ]
  },
  {
   "cell_type": "code",
   "execution_count": 18,
   "metadata": {},
   "outputs": [],
   "source": [
    "Q15=Q14[[1,0,2],:]"
   ]
  },
  {
   "cell_type": "markdown",
   "metadata": {},
   "source": [
    "**Q16:** Next, reverse the columns of the above `Q15` array and call it `Q16`."
   ]
  },
  {
   "cell_type": "code",
   "execution_count": 19,
   "metadata": {},
   "outputs": [],
   "source": [
    "Q16=Q15[:, ::-1]"
   ]
  },
  {
   "cell_type": "markdown",
   "metadata": {},
   "source": [
    "**Q17:** Sort each row of the above `Q16` array from least to greatest and call it `Q17`."
   ]
  },
  {
   "cell_type": "code",
   "execution_count": 20,
   "metadata": {},
   "outputs": [],
   "source": [
    "Q17=np.sort(Q16, axis=1)"
   ]
  },
  {
   "cell_type": "markdown",
   "metadata": {},
   "source": [
    "**Q18:** Sort each column of the above `Q17` array from the least to the greatest and call it `Q18`."
   ]
  },
  {
   "cell_type": "code",
   "execution_count": 21,
   "metadata": {},
   "outputs": [],
   "source": [
    "Q18=np.sort(Q17, axis=0)"
   ]
  },
  {
   "cell_type": "markdown",
   "metadata": {},
   "source": [
    "**Q19:** Create a `1D` array called `Q19` of `100` values that range evenly between `[1 - 200]`.\n"
   ]
  },
  {
   "cell_type": "code",
   "execution_count": 22,
   "metadata": {},
   "outputs": [],
   "source": [
    "Q19=np.linspace(1,200,100)"
   ]
  },
  {
   "cell_type": "markdown",
   "metadata": {},
   "source": [
    "**Q20:** Reshape `Q19` to a `25x4` array and call it `Q20`."
   ]
  },
  {
   "cell_type": "code",
   "execution_count": 36,
   "metadata": {},
   "outputs": [
    {
     "data": {
      "text/plain": [
       "array([[  1.        ,   3.01010101,   5.02020202,   7.03030303],\n",
       "       [  9.04040404,  11.05050505,  13.06060606,  15.07070707],\n",
       "       [ 17.08080808,  19.09090909,  21.1010101 ,  23.11111111],\n",
       "       [ 25.12121212,  27.13131313,  29.14141414,  31.15151515],\n",
       "       [ 33.16161616,  35.17171717,  37.18181818,  39.19191919],\n",
       "       [ 41.2020202 ,  43.21212121,  45.22222222,  47.23232323],\n",
       "       [ 49.24242424,  51.25252525,  53.26262626,  55.27272727],\n",
       "       [ 57.28282828,  59.29292929,  61.3030303 ,  63.31313131],\n",
       "       [ 65.32323232,  67.33333333,  69.34343434,  71.35353535],\n",
       "       [ 73.36363636,  75.37373737,  77.38383838,  79.39393939],\n",
       "       [ 81.4040404 ,  83.41414141,  85.42424242,  87.43434343],\n",
       "       [ 89.44444444,  91.45454545,  93.46464646,  95.47474747],\n",
       "       [ 97.48484848,  99.49494949, 101.50505051, 103.51515152],\n",
       "       [105.52525253, 107.53535354, 109.54545455, 111.55555556],\n",
       "       [113.56565657, 115.57575758, 117.58585859, 119.5959596 ],\n",
       "       [121.60606061, 123.61616162, 125.62626263, 127.63636364],\n",
       "       [129.64646465, 131.65656566, 133.66666667, 135.67676768],\n",
       "       [137.68686869, 139.6969697 , 141.70707071, 143.71717172],\n",
       "       [145.72727273, 147.73737374, 149.74747475, 151.75757576],\n",
       "       [153.76767677, 155.77777778, 157.78787879, 159.7979798 ],\n",
       "       [161.80808081, 163.81818182, 165.82828283, 167.83838384],\n",
       "       [169.84848485, 171.85858586, 173.86868687, 175.87878788],\n",
       "       [177.88888889, 179.8989899 , 181.90909091, 183.91919192],\n",
       "       [185.92929293, 187.93939394, 189.94949495, 191.95959596],\n",
       "       [193.96969697, 195.97979798, 197.98989899, 200.        ]])"
      ]
     },
     "execution_count": 36,
     "metadata": {},
     "output_type": "execute_result"
    }
   ],
   "source": [
    "Q20=Q19.reshape(25,4)\n",
    "Q20"
   ]
  },
  {
   "cell_type": "markdown",
   "metadata": {},
   "source": [
    "**Q21:** Index the first row of `Q20` and save this as `Q21`."
   ]
  },
  {
   "cell_type": "code",
   "execution_count": 24,
   "metadata": {},
   "outputs": [],
   "source": [
    "Q21=Q20[0]"
   ]
  },
  {
   "cell_type": "markdown",
   "metadata": {},
   "source": [
    "**Q22:** Index the second column of `Q20` and save this as `Q22`."
   ]
  },
  {
   "cell_type": "code",
   "execution_count": 25,
   "metadata": {},
   "outputs": [],
   "source": [
    "Q22=Q20[:,1]"
   ]
  },
  {
   "cell_type": "markdown",
   "metadata": {},
   "source": [
    "**Q23:** Index every other row of `Q20` starting from the first and save this as `Q23`."
   ]
  },
  {
   "cell_type": "code",
   "execution_count": 26,
   "metadata": {},
   "outputs": [],
   "source": [
    "Q23=Q20[::2]"
   ]
  },
  {
   "cell_type": "markdown",
   "metadata": {},
   "source": [
    "**Q24:** Index the 3rd, 5th and 7th row of the `Q20` array can save this as `Q24`."
   ]
  },
  {
   "cell_type": "code",
   "execution_count": 27,
   "metadata": {},
   "outputs": [],
   "source": [
    "Q24=Q20[[2,4,6]]"
   ]
  },
  {
   "cell_type": "markdown",
   "metadata": {},
   "source": [
    "**Q25:** Copy the `Q20` array and save it as `Q25`.  Select only the values below 50 from `Q25`, add 5 to these values, and then multiply by 2. The other values should remain unchanged and everything should be saved back to `Q25`."
   ]
  },
  {
   "cell_type": "code",
   "execution_count": 28,
   "metadata": {},
   "outputs": [],
   "source": [
    "# make a copy of Q20\n",
    "Q25 = Q20.copy()\n",
    "\n",
    "Q25[Q25<50]=(Q25[Q25<50]+5)*2"
   ]
  },
  {
   "cell_type": "markdown",
   "metadata": {},
   "source": [
    "**Q26:** Add `Q20` and `Q25` and call the new array `Q26`."
   ]
  },
  {
   "cell_type": "code",
   "execution_count": 29,
   "metadata": {},
   "outputs": [],
   "source": [
    "Q26=Q20+Q25"
   ]
  },
  {
   "cell_type": "markdown",
   "metadata": {},
   "source": [
    "**Q27:** What is the `shape` of `Q26`?  Save this as `Q27`."
   ]
  },
  {
   "cell_type": "code",
   "execution_count": 30,
   "metadata": {},
   "outputs": [],
   "source": [
    "Q27=Q26.shape"
   ]
  },
  {
   "cell_type": "markdown",
   "metadata": {},
   "source": [
    "**Q28:** Cast `Q26` array as an `int64` data type.  Save this as `Q28`. What happens to the values?"
   ]
  },
  {
   "cell_type": "code",
   "execution_count": 31,
   "metadata": {},
   "outputs": [],
   "source": [
    "Q28=Q26.astype('int64')"
   ]
  },
  {
   "cell_type": "markdown",
   "metadata": {},
   "source": [
    "**Q29:** \n",
    "- Make a copy of the `Q28` array and call it `Q29`.  \n",
    "- Select the first value in the first 5 rows in `Q29` and call this slice `arr_slice`.\n",
    "- Update the second value in `arr_slice` to `42`. Before you check the results, will this update `Q29` or will it remain unchanged?"
   ]
  },
  {
   "cell_type": "code",
   "execution_count": 32,
   "metadata": {},
   "outputs": [],
   "source": [
    "# make a copy of Q28\n",
    "Q29 = Q28.copy()\n",
    "\n",
    "arr_slice=Q29[0:5,0]\n",
    "arr_slice[1]=42"
   ]
  },
  {
   "cell_type": "markdown",
   "metadata": {},
   "source": [
    "**Q30:** Set all negative values in the `data` array (given below) to `0`.  For this exercise you will be updating the actual `data` array."
   ]
  },
  {
   "cell_type": "code",
   "execution_count": 33,
   "metadata": {},
   "outputs": [
    {
     "data": {
      "text/plain": [
       "array([  2,  -4,   8,  16, -32, -64, 128])"
      ]
     },
     "execution_count": 33,
     "metadata": {},
     "output_type": "execute_result"
    }
   ],
   "source": [
    "# create new array\n",
    "data = np.array([2,-4,8,16,-32,-64,128])\n",
    "data"
   ]
  },
  {
   "cell_type": "code",
   "execution_count": 34,
   "metadata": {},
   "outputs": [],
   "source": [
    "data[data<0]=0"
   ]
  },
  {
   "cell_type": "markdown",
   "metadata": {},
   "source": [
    "Good work!"
   ]
  }
 ],
 "metadata": {
  "kernelspec": {
   "display_name": "Python 3 (ipykernel)",
   "language": "python",
   "name": "python3"
  },
  "language_info": {
   "codemirror_mode": {
    "name": "ipython",
    "version": 3
   },
   "file_extension": ".py",
   "mimetype": "text/x-python",
   "name": "python",
   "nbconvert_exporter": "python",
   "pygments_lexer": "ipython3",
   "version": "3.9.7"
  }
 },
 "nbformat": 4,
 "nbformat_minor": 4
}
