{
 "cells": [
  {
   "cell_type": "code",
   "execution_count": 1,
   "id": "96d6972b",
   "metadata": {},
   "outputs": [],
   "source": [
    "import numpy as np\n",
    "import pandas as pd"
   ]
  },
  {
   "cell_type": "code",
   "execution_count": 78,
   "id": "0e988bee",
   "metadata": {},
   "outputs": [
    {
     "name": "stdout",
     "output_type": "stream",
     "text": [
      "0     3\n",
      "1     5\n",
      "2     7\n",
      "3     9\n",
      "4    11\n",
      "dtype: int64\n"
     ]
    }
   ],
   "source": [
    "a=pd.Series([3, 5, 7, 9, 11])\n",
    "print(a)"
   ]
  },
  {
   "cell_type": "code",
   "execution_count": 7,
   "id": "53bab641",
   "metadata": {},
   "outputs": [],
   "source": [
    "Q1=(a.values)"
   ]
  },
  {
   "cell_type": "code",
   "execution_count": 9,
   "id": "dd601191",
   "metadata": {},
   "outputs": [],
   "source": [
    "Q2=(a.index)"
   ]
  },
  {
   "cell_type": "code",
   "execution_count": 10,
   "id": "bf3a0c34",
   "metadata": {},
   "outputs": [],
   "source": [
    "Q3=a[2]"
   ]
  },
  {
   "cell_type": "code",
   "execution_count": 14,
   "id": "47fbe3fe",
   "metadata": {},
   "outputs": [],
   "source": [
    "Q4=a[2:4]"
   ]
  },
  {
   "cell_type": "code",
   "execution_count": 76,
   "id": "451b1723",
   "metadata": {},
   "outputs": [],
   "source": [
    "Q5=pd.Series([3, 5, 7, 9, 11], \n",
    "             index=['three', 'five', 'seven', 'nine', 'eleven'])"
   ]
  },
  {
   "cell_type": "code",
   "execution_count": 19,
   "id": "fa3d672f",
   "metadata": {},
   "outputs": [],
   "source": [
    "b = {'Da': 'ta',\n",
    "      'Sc': 'ie',\n",
    "      'nc': 'ef',\n",
    "      'or': 'all'\n",
    "     }"
   ]
  },
  {
   "cell_type": "code",
   "execution_count": 26,
   "id": "2255ca9a",
   "metadata": {},
   "outputs": [],
   "source": [
    "Q6=pd.Series(b)"
   ]
  },
  {
   "cell_type": "code",
   "execution_count": 27,
   "id": "5c74b9eb",
   "metadata": {},
   "outputs": [],
   "source": [
    "Q7=Q6[2]"
   ]
  },
  {
   "cell_type": "code",
   "execution_count": 28,
   "id": "7580f301",
   "metadata": {},
   "outputs": [],
   "source": [
    "Q8=Q6[1:4]"
   ]
  },
  {
   "cell_type": "code",
   "execution_count": 29,
   "id": "caedcb31",
   "metadata": {},
   "outputs": [],
   "source": [
    "c = {'A': 'a',\n",
    "     'B': 'b',\n",
    "     'C': 'c'\n",
    "     }"
   ]
  },
  {
   "cell_type": "code",
   "execution_count": 70,
   "id": "65165682",
   "metadata": {},
   "outputs": [],
   "source": [
    "d = {'A': 1,\n",
    "     'B': 2,\n",
    "     'C': 3\n",
    "     }"
   ]
  },
  {
   "cell_type": "code",
   "execution_count": 71,
   "id": "f11d77ae",
   "metadata": {},
   "outputs": [],
   "source": [
    "Q9=pd.DataFrame({'lowercase': c,\n",
    "                 'numbers': d})"
   ]
  },
  {
   "cell_type": "code",
   "execution_count": 72,
   "id": "90cf3c5e",
   "metadata": {},
   "outputs": [],
   "source": [
    "Q10=(Q9.index)"
   ]
  },
  {
   "cell_type": "code",
   "execution_count": 73,
   "id": "1d54bf40",
   "metadata": {},
   "outputs": [],
   "source": [
    "Q11=(Q9.columns)"
   ]
  },
  {
   "cell_type": "code",
   "execution_count": 74,
   "id": "43d4924c",
   "metadata": {},
   "outputs": [],
   "source": [
    "Q12=Q9['numbers']"
   ]
  }
 ],
 "metadata": {
  "kernelspec": {
   "display_name": "Python 3 (ipykernel)",
   "language": "python",
   "name": "python3"
  },
  "language_info": {
   "codemirror_mode": {
    "name": "ipython",
    "version": 3
   },
   "file_extension": ".py",
   "mimetype": "text/x-python",
   "name": "python",
   "nbconvert_exporter": "python",
   "pygments_lexer": "ipython3",
   "version": "3.9.7"
  }
 },
 "nbformat": 4,
 "nbformat_minor": 5
}
