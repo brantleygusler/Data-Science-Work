{
 "cells": [
  {
   "cell_type": "code",
   "execution_count": 652,
   "id": "09f60be5",
   "metadata": {},
   "outputs": [],
   "source": [
    "import numpy as np\n",
    "import pandas as pd"
   ]
  },
  {
   "cell_type": "code",
   "execution_count": 653,
   "id": "a83e0f68",
   "metadata": {},
   "outputs": [],
   "source": [
    "np.random.seed(12)"
   ]
  },
  {
   "cell_type": "code",
   "execution_count": 654,
   "id": "7e29dbfd",
   "metadata": {},
   "outputs": [],
   "source": [
    "index=[('One',1), ('One', 2), ('Two', 1), ('Two', 2), ('Three', 1), ('Three', 2)]\n",
    "acrs=[11, 111, 22, 222, 33, 333]\n",
    "index=pd.MultiIndex.from_tuples(index, names=[\"Words\", \"Numbers\"])\n",
    "Q1=pd.Series(acrs, index=index)"
   ]
  },
  {
   "cell_type": "code",
   "execution_count": 655,
   "id": "adfd5a36",
   "metadata": {},
   "outputs": [],
   "source": [
    "Q2=Q1['Three']"
   ]
  },
  {
   "cell_type": "code",
   "execution_count": 656,
   "id": "3d2e3c97",
   "metadata": {},
   "outputs": [],
   "source": [
    "Q3=Q1[:, 2]"
   ]
  },
  {
   "cell_type": "code",
   "execution_count": 657,
   "id": "baaf8a56",
   "metadata": {},
   "outputs": [],
   "source": [
    "twn=[('One',1), ('One', 2), ('Two', 1), ('Two', 2), ('Three', 1), ('Three', 2)]\n",
    "ups=[11, 111, 22, 222, 33, 333]\n",
    "twn=pd.MultiIndex.from_tuples(twn, names=[\"Words\", \"Numbers\"])\n",
    "n=pd.Series(ups, index=twn)\n",
    "Q4=n.unstack()"
   ]
  },
  {
   "cell_type": "code",
   "execution_count": 658,
   "id": "1bbc8f8b",
   "metadata": {},
   "outputs": [],
   "source": [
    "Q5=Q4.sum(axis='rows')"
   ]
  },
  {
   "cell_type": "code",
   "execution_count": 659,
   "id": "f418c982",
   "metadata": {},
   "outputs": [],
   "source": [
    "arrays = [np.array([1, 1, 2, 2, 3, 3]),\n",
    "          np.array([\"a\", \"b\", \"a\", \"b\", \"a\", \"b\"]),]\n",
    "data=np.random.randint(9, size =(6,2))\n",
    "columns=np.array([\"A\", \"B\"])\n",
    "Q6=pd.DataFrame(data, index=arrays, columns=columns)"
   ]
  },
  {
   "cell_type": "code",
   "execution_count": 660,
   "id": "73eaf05a",
   "metadata": {},
   "outputs": [],
   "source": [
    "hat=pd.MultiIndex.from_product([['ONE', 'TWO', 'THREE'], ['one', 'two']],\n",
    "                                names=['NUMBER', 'number'])\n",
    "pts=pd.MultiIndex.from_product([['A', 'B'], ['a', 'b', 'c', 'd']], names=['LETTER','letter'])\n",
    "bld=np.random.randint(20, size =(6,8))\n",
    "Q7=pd.DataFrame(bld, index=hat, columns=pts)"
   ]
  },
  {
   "cell_type": "code",
   "execution_count": 661,
   "id": "49b290d6",
   "metadata": {},
   "outputs": [],
   "source": [
    "Q8=Q7['B']"
   ]
  },
  {
   "cell_type": "code",
   "execution_count": 662,
   "id": "5a8fdfa1",
   "metadata": {},
   "outputs": [],
   "source": [
    "x=pd.Series([7, 8, 9, 10], index=['ONE', 'TWO', 'THREE', 'FOUR'])\n",
    "y=pd.Series([11, 12, 13, 14], index=['THREE', 'FOUR', 'FIVE', 'SIX'])\n",
    "Q9=pd.DataFrame({0: x, 1: y})"
   ]
  },
  {
   "cell_type": "code",
   "execution_count": 663,
   "id": "18aeaf7b",
   "metadata": {},
   "outputs": [],
   "source": [
    "Q10=pd.concat([x,y], sort= False)"
   ]
  },
  {
   "cell_type": "code",
   "execution_count": 664,
   "id": "13c4c691",
   "metadata": {},
   "outputs": [],
   "source": [
    "Q11=pd.concat({'A': x,'B': y,})"
   ]
  },
  {
   "cell_type": "code",
   "execution_count": 665,
   "id": "84086149",
   "metadata": {},
   "outputs": [],
   "source": [
    "ce=pd.Series([7, 8, 9, 10, 15.0], index=['ONE', 'TWO', 'THREE', 'FOUR', 'SEVEN'])\n",
    "gh=pd.Series([11, 12, 13, 14, 16.0], index=['THREE', 'FOUR', 'FIVE', 'SIX', 'EIGHT'])\n",
    "Q12=pd.DataFrame({'A': ce, 'B': gh})"
   ]
  },
  {
   "cell_type": "code",
   "execution_count": null,
   "id": "c649099d",
   "metadata": {},
   "outputs": [],
   "source": []
  }
 ],
 "metadata": {
  "kernelspec": {
   "display_name": "Python 3 (ipykernel)",
   "language": "python",
   "name": "python3"
  },
  "language_info": {
   "codemirror_mode": {
    "name": "ipython",
    "version": 3
   },
   "file_extension": ".py",
   "mimetype": "text/x-python",
   "name": "python",
   "nbconvert_exporter": "python",
   "pygments_lexer": "ipython3",
   "version": "3.9.7"
  }
 },
 "nbformat": 4,
 "nbformat_minor": 5
}
