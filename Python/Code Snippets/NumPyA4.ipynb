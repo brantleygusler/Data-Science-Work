{
 "cells": [
  {
   "cell_type": "code",
   "execution_count": 1,
   "id": "e66b8e6d",
   "metadata": {},
   "outputs": [],
   "source": [
    "import numpy as np"
   ]
  },
  {
   "cell_type": "code",
   "execution_count": 4,
   "id": "f8037195",
   "metadata": {},
   "outputs": [],
   "source": [
    "Q1=np.zeros(20, dtype=float)"
   ]
  },
  {
   "cell_type": "code",
   "execution_count": 6,
   "id": "82ae9681",
   "metadata": {},
   "outputs": [],
   "source": [
    "Q2=np.ones((4,5), dtype=int)"
   ]
  },
  {
   "cell_type": "code",
   "execution_count": 14,
   "id": "861b4d42",
   "metadata": {},
   "outputs": [],
   "source": [
    "Q3=np.full((2,5), 2, dtype=float)"
   ]
  },
  {
   "cell_type": "code",
   "execution_count": 58,
   "id": "03bc761b",
   "metadata": {},
   "outputs": [],
   "source": [
    "Q4=np.arange(0,50, dtype=float)"
   ]
  },
  {
   "cell_type": "code",
   "execution_count": 63,
   "id": "4e5bb20b",
   "metadata": {},
   "outputs": [],
   "source": [
    "Q5=np.arange(4,19,1.75)"
   ]
  },
  {
   "cell_type": "code",
   "execution_count": 42,
   "id": "d2c8ba07",
   "metadata": {},
   "outputs": [],
   "source": [
    "Q6=np.eye(5, dtype=int)"
   ]
  },
  {
   "cell_type": "code",
   "execution_count": 66,
   "id": "796d6f55",
   "metadata": {},
   "outputs": [],
   "source": [
    "np.random.seed(10)\n",
    "Q7=np.random.random((4,2))"
   ]
  },
  {
   "cell_type": "code",
   "execution_count": 54,
   "id": "890930aa",
   "metadata": {},
   "outputs": [],
   "source": [
    "np.random.seed(9)\n",
    "Q8=np.random.randint(16, size =(4,2,5))"
   ]
  },
  {
   "cell_type": "code",
   "execution_count": 56,
   "id": "88c8e8e1",
   "metadata": {},
   "outputs": [],
   "source": [
    "Q9=np.size(Q8)"
   ]
  }
 ],
 "metadata": {
  "kernelspec": {
   "display_name": "Python 3 (ipykernel)",
   "language": "python",
   "name": "python3"
  },
  "language_info": {
   "codemirror_mode": {
    "name": "ipython",
    "version": 3
   },
   "file_extension": ".py",
   "mimetype": "text/x-python",
   "name": "python",
   "nbconvert_exporter": "python",
   "pygments_lexer": "ipython3",
   "version": "3.9.7"
  }
 },
 "nbformat": 4,
 "nbformat_minor": 5
}
