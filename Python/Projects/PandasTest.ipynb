{
 "cells": [
  {
   "cell_type": "code",
   "execution_count": 149,
   "id": "1f2b7899",
   "metadata": {},
   "outputs": [],
   "source": [
    "import numpy as np\n",
    "import pandas as pd"
   ]
  },
  {
   "cell_type": "code",
   "execution_count": 150,
   "id": "ea20b7a8",
   "metadata": {},
   "outputs": [],
   "source": [
    "x=pd.read_csv(\"dots.csv\") "
   ]
  },
  {
   "cell_type": "code",
   "execution_count": 151,
   "id": "0691c0cd",
   "metadata": {},
   "outputs": [],
   "source": [
    "Q1=x['firing_rate'].mean()"
   ]
  },
  {
   "cell_type": "code",
   "execution_count": 162,
   "id": "7c71b485",
   "metadata": {},
   "outputs": [],
   "source": [
    "Q2=x['time'].max()"
   ]
  },
  {
   "cell_type": "code",
   "execution_count": 153,
   "id": "3f3ac85e",
   "metadata": {},
   "outputs": [],
   "source": [
    "Q3=x.groupby(['choice']).mean()"
   ]
  },
  {
   "cell_type": "code",
   "execution_count": 154,
   "id": "c01f1a13",
   "metadata": {},
   "outputs": [],
   "source": [
    "Q4=x.groupby('align')['firing_rate'].min()"
   ]
  },
  {
   "cell_type": "code",
   "execution_count": 155,
   "id": "6a4e7de9",
   "metadata": {},
   "outputs": [],
   "source": [
    "Q5=x.groupby(['align', 'choice'])['firing_rate'].mean().unstack()"
   ]
  },
  {
   "cell_type": "code",
   "execution_count": 156,
   "id": "92ea83b9",
   "metadata": {},
   "outputs": [],
   "source": [
    "Q6=x.pivot_table('firing_rate', 'align', 'choice')"
   ]
  },
  {
   "cell_type": "code",
   "execution_count": 157,
   "id": "42e9866b",
   "metadata": {},
   "outputs": [],
   "source": [
    "y=pd.read_csv(\"tips.csv\")"
   ]
  },
  {
   "cell_type": "code",
   "execution_count": 158,
   "id": "97c7f288",
   "metadata": {},
   "outputs": [],
   "source": [
    "Q7=y.pivot_table('total_bill', ['sex', 'smoker'], 'time')"
   ]
  },
  {
   "cell_type": "code",
   "execution_count": 159,
   "id": "14fc9da2",
   "metadata": {},
   "outputs": [],
   "source": [
    "tip=pd.cut(y['tip'], [0, 5, 10])\n",
    "Q8=y.pivot_table('total_bill', ['sex', tip], 'smoker')"
   ]
  },
  {
   "cell_type": "code",
   "execution_count": 160,
   "id": "0074fbe8",
   "metadata": {},
   "outputs": [],
   "source": [
    "Q9=y.pivot_table(index='sex', columns='smoker',\n",
    "                aggfunc={'size':sum, 'tip':max, 'total_bill':np.mean})"
   ]
  },
  {
   "cell_type": "code",
   "execution_count": null,
   "id": "4ee08c0f",
   "metadata": {},
   "outputs": [],
   "source": [
    "additional test"
   ]
  }
 ],
 "metadata": {
  "kernelspec": {
   "display_name": "Python 3 (ipykernel)",
   "language": "python",
   "name": "python3"
  },
  "language_info": {
   "codemirror_mode": {
    "name": "ipython",
    "version": 3
   },
   "file_extension": ".py",
   "mimetype": "text/x-python",
   "name": "python",
   "nbconvert_exporter": "python",
   "pygments_lexer": "ipython3",
   "version": "3.9.7"
  }
 },
 "nbformat": 4,
 "nbformat_minor": 5
}
