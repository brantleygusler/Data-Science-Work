{
 "cells": [
  {
   "cell_type": "code",
   "execution_count": 30,
   "id": "da49a0be",
   "metadata": {},
   "outputs": [],
   "source": [
    "import numpy as np"
   ]
  },
  {
   "cell_type": "code",
   "execution_count": 31,
   "id": "6ecd34c6",
   "metadata": {},
   "outputs": [],
   "source": [
    "q1 = {'One': 'A',\n",
    "      'Two': 'B',\n",
    "      'Three': 'C',\n",
    "      'Four': 'D'\n",
    "     }"
   ]
  },
  {
   "cell_type": "code",
   "execution_count": 32,
   "id": "61c6abca",
   "metadata": {},
   "outputs": [],
   "source": [
    "Q1=q1['Three']"
   ]
  },
  {
   "cell_type": "code",
   "execution_count": 33,
   "id": "483443d4",
   "metadata": {},
   "outputs": [],
   "source": [
    "Q2 = {'Five': 'E',\n",
    "      'Six': 'F'\n",
    "     }"
   ]
  },
  {
   "cell_type": "code",
   "execution_count": 42,
   "id": "65d58e77",
   "metadata": {},
   "outputs": [
    {
     "name": "stdout",
     "output_type": "stream",
     "text": [
      "{'Five': 'E', 'Six': 'F', 'Seven': 'G'}\n"
     ]
    }
   ],
   "source": [
    "Q2['Seven'] = 'G'\n",
    "print(Q2)"
   ]
  },
  {
   "cell_type": "code",
   "execution_count": 35,
   "id": "c087081a",
   "metadata": {},
   "outputs": [],
   "source": [
    "Q3 = {'Eight': 'H'\n",
    "     }"
   ]
  },
  {
   "cell_type": "code",
   "execution_count": 36,
   "id": "ee7410cc",
   "metadata": {},
   "outputs": [],
   "source": [
    "del(Q3['Eight'])"
   ]
  },
  {
   "cell_type": "code",
   "execution_count": 37,
   "id": "60da4ef6",
   "metadata": {},
   "outputs": [],
   "source": [
    "Q4 = {'Nine': 'I',\n",
    "      'Ten': 'J'\n",
    "     }"
   ]
  },
  {
   "cell_type": "code",
   "execution_count": 38,
   "id": "901c4960",
   "metadata": {},
   "outputs": [],
   "source": [
    "Q4['Ten'] = 'K'"
   ]
  },
  {
   "cell_type": "code",
   "execution_count": 39,
   "id": "7565dff5",
   "metadata": {},
   "outputs": [],
   "source": [
    "def Q5():\n",
    "    for i in q1:\n",
    "        print(q1[i])"
   ]
  },
  {
   "cell_type": "code",
   "execution_count": 40,
   "id": "edbfe238",
   "metadata": {},
   "outputs": [],
   "source": [
    "def Q6():\n",
    "    for i in q1.keys():\n",
    "        print(i)"
   ]
  },
  {
   "cell_type": "code",
   "execution_count": 41,
   "id": "fa6b826b",
   "metadata": {},
   "outputs": [],
   "source": [
    "Q7 = {\n",
    "    'Least Favorite' : {\n",
    "        'Fruit' : 'Grape',\n",
    "        'Color' : 'Purple'\n",
    "    },\n",
    "    'Medium Favorite' : {\n",
    "        'Fruit' : 'Apple',\n",
    "        'Color' : 'Red'\n",
    "    },\n",
    "    'Most Favorite' : {\n",
    "        'Fruit' : 'Banana',\n",
    "        'Color' : 'Yellow'\n",
    "    }\n",
    "    \n",
    "}"
   ]
  }
 ],
 "metadata": {
  "kernelspec": {
   "display_name": "Python 3 (ipykernel)",
   "language": "python",
   "name": "python3"
  },
  "language_info": {
   "codemirror_mode": {
    "name": "ipython",
    "version": 3
   },
   "file_extension": ".py",
   "mimetype": "text/x-python",
   "name": "python",
   "nbconvert_exporter": "python",
   "pygments_lexer": "ipython3",
   "version": "3.9.7"
  }
 },
 "nbformat": 4,
 "nbformat_minor": 5
}
