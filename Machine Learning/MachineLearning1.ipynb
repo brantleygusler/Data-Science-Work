{
 "cells": [
  {
   "cell_type": "code",
   "execution_count": 1,
   "metadata": {},
   "outputs": [],
   "source": [
    "# common imports\n",
    "import numpy as np\n",
    "import pandas as pd\n",
    "\n",
    "# Do not change these options; This allows the CodeGrade auto grading to function correctly\n",
    "pd.set_option('display.max_columns', None)\n",
    "import warnings\n",
    "warnings.filterwarnings('ignore') "
   ]
  },
  {
   "cell_type": "markdown",
   "metadata": {},
   "source": [
    "Next you should place the data file called `JohnnyPiesData.csv` and this Jupyter notebook in the same directory.  Use the [read_csv()](https://pandas.pydata.org/pandas-docs/stable/reference/api/pandas.read_csv.html) function to read in the data from the comma-separated values (csv) file to a Pandas DataFrame called `pie_df` and output the data to take a look."
   ]
  },
  {
   "cell_type": "code",
   "execution_count": 2,
   "metadata": {
    "id": "I1lAMsOYxKUm",
    "outputId": "21650b86-502c-41ce-bb70-1c21a3900438"
   },
   "outputs": [],
   "source": [
    "fileName = \"JohnnyPiesData.csv\"\n",
    "pie_df=pd.read_csv(\"JohnnyPiesData.csv\")"
   ]
  },
  {
   "cell_type": "markdown",
   "metadata": {
    "id": "hgkIaAu8xKUp"
   },
   "source": [
    "## Prepare Data for Linear Regression"
   ]
  },
  {
   "cell_type": "markdown",
   "metadata": {
    "id": "VcpqVN0_xKUp"
   },
   "source": [
    "- Drop the `Example` column from the `pie_df` DataFrame, because it offers no information.\n",
    "\n",
    "- Encode all categorical data into numeric data via the \"One Hot Encoding\" technique provided by the Pandas [get_dummies()](https://pandas.pydata.org/pandas-docs/stable/reference/api/pandas.get_dummies.html) function.  \n",
    "\n",
    "  - Since we are performing ordinary least squares linear regression, we will want to drop one of the newly created Boolean-valued features (output from the `get_dummies()` function) to prevent introducing unwanted correlation in the data.  Include `drop_first = True` as an argument to the `get_dummies()` function.\n",
    "\n",
    "- Store the final features in a DataFrame called `features`.  The one-hot-encoded columns must go in the same order as the original data so that the linear regression coefficients match what CodeGrade is expecting.\n",
    "\n",
    "- Store the positive class labels in a DataFrame called `response`.  The `response` data must be a DataFrame and not a Series or some of the code towards the end of this notebook may not function correctly and your output might be slightly different than what CodeGrade is expecting.\n",
    "\n",
    "**Note:** Since we are not concerned with generalization error in this assignment, we will not split our data into training and test sets. In 'real-world' projects, you would want to split your data to see how your model performs with data that it has never seen before."
   ]
  },
  {
   "cell_type": "code",
   "execution_count": 3,
   "metadata": {
    "id": "Rdl27SrzxKUq",
    "outputId": "a82aacb2-d422-4d51-e306-e36c5372dd8b"
   },
   "outputs": [],
   "source": [
    "pie_df = pie_df.drop(columns=['Example'])\n",
    "pie_df = pd.get_dummies(pie_df, columns=['Crust Shape', 'Crust Size', 'Crust Shade', 'Filling Size', 'Filling Shade', 'Class'], drop_first=True)\n",
    "features = pie_df.drop(columns=['Class_pos'])\n",
    "response = pie_df[['Class_pos']]"
   ]
  },
  {
   "cell_type": "markdown",
   "metadata": {
    "id": "tIS1zHOoxKUs"
   },
   "source": [
    "## Perfrom Linear Regression Model Fitting\n",
    "\n",
    "1. Import the [LinearRegression](https://scikit-learn.org/stable/modules/generated/sklearn.linear_model.LinearRegression.html) class from the `sklearn.linear_model` library. \n",
    "\n",
    "2. Instantiate an object of the `LinearRegression` class called `reg_model`.\n",
    "\n",
    "3. Train the model by invoking the `fit()` method of the `reg_model` object and passing it `features` and `response`."
   ]
  },
  {
   "cell_type": "code",
   "execution_count": 4,
   "metadata": {
    "id": "IlnnCVQHxKUs",
    "outputId": "5cbca257-2905-4de4-fa9a-ca0cb0b5bfa5"
   },
   "outputs": [
    {
     "data": {
      "text/plain": [
       "LinearRegression()"
      ]
     },
     "execution_count": 4,
     "metadata": {},
     "output_type": "execute_result"
    }
   ],
   "source": [
    "from sklearn.linear_model import LinearRegression\n",
    "reg_model = LinearRegression()\n",
    "reg_model.fit(features, response)"
   ]
  },
  {
   "cell_type": "markdown",
   "metadata": {
    "id": "iajaFsO7xKUt"
   },
   "source": [
    "## Examine Linear Regression Model Parameters\n",
    "\n",
    "View the trained model parameters by using the `coef_` and `intercept_` attributes of the trained model."
   ]
  },
  {
   "cell_type": "code",
   "execution_count": 5,
   "metadata": {
    "id": "tneKsvsoxKUt",
    "outputId": "a3c1a212-8bf8-4553-cf57-cbf9e96e6e04"
   },
   "outputs": [
    {
     "data": {
      "text/plain": [
       "array([[-0.52586207, -0.83189655, -0.56465517, -0.63793103, -0.92672414,\n",
       "         0.70258621,  0.12068966, -1.07327586]])"
      ]
     },
     "execution_count": 5,
     "metadata": {},
     "output_type": "execute_result"
    }
   ],
   "source": [
    "reg_model.coef_"
   ]
  },
  {
   "cell_type": "code",
   "execution_count": 6,
   "metadata": {
    "id": "uTTWW-Z0xKUu",
    "outputId": "1eb48e2a-153a-43ba-8a99-c5952cd45a35"
   },
   "outputs": [
    {
     "data": {
      "text/plain": [
       "array([1.56034483])"
      ]
     },
     "execution_count": 6,
     "metadata": {},
     "output_type": "execute_result"
    }
   ],
   "source": [
    "reg_model.intercept_"
   ]
  },
  {
   "cell_type": "markdown",
   "metadata": {
    "id": "d36mOAZkxKUu"
   },
   "source": [
    "## Making Predictions Using the Linear Regression Model\n",
    "\n",
    "Evaluate the model's performance on the training data set by invoking the `predict()` method and passing `features` to it.  Save this output as `preds`. \n"
   ]
  },
  {
   "cell_type": "code",
   "execution_count": 7,
   "metadata": {
    "id": "1X5bkMgExKUv",
    "outputId": "cd331af6-61ef-4d94-cf78-925c28817bff"
   },
   "outputs": [],
   "source": [
    "preds=reg_model.predict(features)"
   ]
  },
  {
   "cell_type": "markdown",
   "metadata": {
    "id": "kFYHic54xKUv"
   },
   "source": [
    "Below are the results from the linear regression model:\n",
    "\n",
    "The column \"Class_pos\" regards the \"positive\" or negative classification of the pie.  The column \"Regression_Predictions\" regards the predictions made by the linear regression model directly.  The column \"Predicted_Responses\" are the adjusted prdeictions made by the model after employing the cut-off values of 0 being 0 <= x <= 0.5 and 1 being 0.5 < x <= 1.0.\n",
    "\n",
    "Note:  Make sure that your `response` is a DataFrame and not a Series or some of the code below may not function correctly."
   ]
  },
  {
   "cell_type": "code",
   "execution_count": 8,
   "metadata": {
    "id": "2uuUg7_2xKUv",
    "outputId": "8bcc01d4-afcb-44c5-de62-94b674578dca"
   },
   "outputs": [
    {
     "data": {
      "text/html": [
       "<div>\n",
       "<style scoped>\n",
       "    .dataframe tbody tr th:only-of-type {\n",
       "        vertical-align: middle;\n",
       "    }\n",
       "\n",
       "    .dataframe tbody tr th {\n",
       "        vertical-align: top;\n",
       "    }\n",
       "\n",
       "    .dataframe thead th {\n",
       "        text-align: right;\n",
       "    }\n",
       "</style>\n",
       "<table border=\"1\" class=\"dataframe\">\n",
       "  <thead>\n",
       "    <tr style=\"text-align: right;\">\n",
       "      <th></th>\n",
       "      <th>Class_pos</th>\n",
       "      <th>Regression_Predictions</th>\n",
       "      <th>Predicted_Responses</th>\n",
       "    </tr>\n",
       "  </thead>\n",
       "  <tbody>\n",
       "    <tr>\n",
       "      <th>0</th>\n",
       "      <td>1</td>\n",
       "      <td>0.922414</td>\n",
       "      <td>1</td>\n",
       "    </tr>\n",
       "    <tr>\n",
       "      <th>1</th>\n",
       "      <td>1</td>\n",
       "      <td>0.633621</td>\n",
       "      <td>1</td>\n",
       "    </tr>\n",
       "    <tr>\n",
       "      <th>2</th>\n",
       "      <td>1</td>\n",
       "      <td>0.849138</td>\n",
       "      <td>1</td>\n",
       "    </tr>\n",
       "    <tr>\n",
       "      <th>3</th>\n",
       "      <td>1</td>\n",
       "      <td>0.771552</td>\n",
       "      <td>1</td>\n",
       "    </tr>\n",
       "    <tr>\n",
       "      <th>4</th>\n",
       "      <td>1</td>\n",
       "      <td>0.663793</td>\n",
       "      <td>1</td>\n",
       "    </tr>\n",
       "    <tr>\n",
       "      <th>5</th>\n",
       "      <td>1</td>\n",
       "      <td>1.336207</td>\n",
       "      <td>1</td>\n",
       "    </tr>\n",
       "    <tr>\n",
       "      <th>6</th>\n",
       "      <td>0</td>\n",
       "      <td>-0.150862</td>\n",
       "      <td>0</td>\n",
       "    </tr>\n",
       "    <tr>\n",
       "      <th>7</th>\n",
       "      <td>0</td>\n",
       "      <td>0.228448</td>\n",
       "      <td>0</td>\n",
       "    </tr>\n",
       "    <tr>\n",
       "      <th>8</th>\n",
       "      <td>0</td>\n",
       "      <td>0.228448</td>\n",
       "      <td>0</td>\n",
       "    </tr>\n",
       "    <tr>\n",
       "      <th>9</th>\n",
       "      <td>0</td>\n",
       "      <td>0.487069</td>\n",
       "      <td>0</td>\n",
       "    </tr>\n",
       "    <tr>\n",
       "      <th>10</th>\n",
       "      <td>0</td>\n",
       "      <td>0.107759</td>\n",
       "      <td>0</td>\n",
       "    </tr>\n",
       "    <tr>\n",
       "      <th>11</th>\n",
       "      <td>0</td>\n",
       "      <td>-0.077586</td>\n",
       "      <td>0</td>\n",
       "    </tr>\n",
       "  </tbody>\n",
       "</table>\n",
       "</div>"
      ],
      "text/plain": [
       "    Class_pos  Regression_Predictions  Predicted_Responses\n",
       "0           1                0.922414                    1\n",
       "1           1                0.633621                    1\n",
       "2           1                0.849138                    1\n",
       "3           1                0.771552                    1\n",
       "4           1                0.663793                    1\n",
       "5           1                1.336207                    1\n",
       "6           0               -0.150862                    0\n",
       "7           0                0.228448                    0\n",
       "8           0                0.228448                    0\n",
       "9           0                0.487069                    0\n",
       "10          0                0.107759                    0\n",
       "11          0               -0.077586                    0"
      ]
     },
     "execution_count": 8,
     "metadata": {},
     "output_type": "execute_result"
    }
   ],
   "source": [
    "# resp_comp = Response Comparison\n",
    "import numpy as np\n",
    "resp_comp = response.copy() \n",
    "reg_outputs = [float(reg_model.predict(np.reshape(row, (1, -1)))) for row in features.itertuples(index=False)]\n",
    "predicted_resp = np.array([1 if reg_output > 0.5 else 0 for reg_output in reg_outputs])\n",
    "resp_comp = resp_comp.assign(Regression_Predictions = reg_outputs)\n",
    "resp_comp = resp_comp.assign(Predicted_Responses = predicted_resp)\n",
    "resp_comp"
   ]
  },
  {
   "cell_type": "markdown",
   "metadata": {
    "id": "HdR22sklxKUw"
   },
   "source": [
    "## Calculate Model Accuracy\n",
    "\n",
    "Use the [accuracy_score()](https://scikit-learn.org/stable/modules/generated/sklearn.metrics.accuracy_score.html) function to calculate the accuracy score of the model.  Save the accuracy score as `acc_score`."
   ]
  },
  {
   "cell_type": "code",
   "execution_count": 9,
   "metadata": {
    "id": "DLxiUXVKxKUw",
    "outputId": "70a0779b-77aa-4998-f590-e627f39ae8a1"
   },
   "outputs": [],
   "source": [
    "from sklearn.metrics import accuracy_score\n",
    "acc_score = accuracy_score(resp_comp['Class_pos'], resp_comp['Predicted_Responses'])"
   ]
  },
  {
   "cell_type": "code",
   "execution_count": null,
   "metadata": {},
   "outputs": [],
   "source": []
  }
 ],
 "metadata": {
  "colab": {
   "collapsed_sections": [],
   "name": "Assignment_1_complete.ipynb",
   "provenance": []
  },
  "kernelspec": {
   "display_name": "Python 3 (ipykernel)",
   "language": "python",
   "name": "python3"
  },
  "language_info": {
   "codemirror_mode": {
    "name": "ipython",
    "version": 3
   },
   "file_extension": ".py",
   "mimetype": "text/x-python",
   "name": "python",
   "nbconvert_exporter": "python",
   "pygments_lexer": "ipython3",
   "version": "3.9.7"
  }
 },
 "nbformat": 4,
 "nbformat_minor": 4
}
