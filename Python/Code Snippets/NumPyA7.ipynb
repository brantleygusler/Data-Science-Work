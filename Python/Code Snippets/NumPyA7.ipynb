{
 "cells": [
  {
   "cell_type": "code",
   "execution_count": 224,
   "id": "154c6553",
   "metadata": {},
   "outputs": [],
   "source": [
    "import numpy as np"
   ]
  },
  {
   "cell_type": "code",
   "execution_count": 225,
   "id": "fb4d452c",
   "metadata": {},
   "outputs": [],
   "source": [
    "q1=np.arange(2,17, 2)"
   ]
  },
  {
   "cell_type": "code",
   "execution_count": 226,
   "id": "e67b9050",
   "metadata": {},
   "outputs": [],
   "source": [
    "Q1=[q1[6], q1[2], q1[5]]"
   ]
  },
  {
   "cell_type": "code",
   "execution_count": 227,
   "id": "30c2b744",
   "metadata": {},
   "outputs": [],
   "source": [
    "q2=np.array([[1,3, 2], [0, 7, 4]])"
   ]
  },
  {
   "cell_type": "code",
   "execution_count": 228,
   "id": "e9792c56",
   "metadata": {},
   "outputs": [],
   "source": [
    "pos = [1,3,2,0,7,4]\n",
    "j=np.array(np.take(q1, pos))\n",
    "Q2=j.reshape((2,3))"
   ]
  },
  {
   "cell_type": "code",
   "execution_count": 229,
   "id": "97a7748c",
   "metadata": {},
   "outputs": [],
   "source": [
    "Q3=q1.reshape((4,2))"
   ]
  },
  {
   "cell_type": "code",
   "execution_count": 230,
   "id": "c1cf2bcf",
   "metadata": {},
   "outputs": [],
   "source": [
    "Q4=np.array([Q3[0,1], Q3[0,0]])"
   ]
  },
  {
   "cell_type": "code",
   "execution_count": 231,
   "id": "7608293f",
   "metadata": {},
   "outputs": [],
   "source": [
    "Q5=Q3[0:2, [0]]"
   ]
  },
  {
   "cell_type": "code",
   "execution_count": 232,
   "id": "55e21a3f",
   "metadata": {},
   "outputs": [],
   "source": [
    "np.random.seed(6)\n",
    "x=np.random.randint(10, size =(10))\n",
    "Q6=np.sort(x)"
   ]
  },
  {
   "cell_type": "code",
   "execution_count": 233,
   "id": "fc832b8d",
   "metadata": {},
   "outputs": [],
   "source": [
    "q7=np.random.randint(10, size =(4,5))"
   ]
  },
  {
   "cell_type": "code",
   "execution_count": 234,
   "id": "4b23f987",
   "metadata": {},
   "outputs": [],
   "source": [
    "Q7=np.sort(q7, axis=0)"
   ]
  },
  {
   "cell_type": "code",
   "execution_count": 235,
   "id": "b78d8acd",
   "metadata": {},
   "outputs": [],
   "source": [
    "Q8=np.sort(q7, axis=1)"
   ]
  },
  {
   "cell_type": "code",
   "execution_count": 236,
   "id": "09fbcd1d",
   "metadata": {},
   "outputs": [],
   "source": [
    "fruit = ['Grape', 'Apple', 'Banana']\n",
    "color = ['Purple', 'Red', 'Yellow']\n",
    "ranking = [3, 2, 1]"
   ]
  },
  {
   "cell_type": "code",
   "execution_count": 237,
   "id": "d81a1153",
   "metadata": {},
   "outputs": [],
   "source": [
    "q9 = np.zeros(3, dtype = {'names':('Fruit', 'Color', 'Ranking'),\n",
    "                         'formats':('U20', 'U20', 'int16')})"
   ]
  },
  {
   "cell_type": "code",
   "execution_count": 238,
   "id": "a5721f47",
   "metadata": {},
   "outputs": [],
   "source": [
    "q9['Fruit'] = fruit\n",
    "q9['Color'] = color\n",
    "q9['Ranking'] = ranking"
   ]
  },
  {
   "cell_type": "code",
   "execution_count": 239,
   "id": "39cfa270",
   "metadata": {},
   "outputs": [],
   "source": [
    "Q9=q9['Color']"
   ]
  },
  {
   "cell_type": "code",
   "execution_count": 240,
   "id": "b2c21092",
   "metadata": {},
   "outputs": [],
   "source": [
    "Q10=q9[2]"
   ]
  },
  {
   "cell_type": "code",
   "execution_count": 241,
   "id": "1228b135",
   "metadata": {},
   "outputs": [],
   "source": [
    "Q11=q9[q9['Ranking']<3]"
   ]
  }
 ],
 "metadata": {
  "kernelspec": {
   "display_name": "Python 3 (ipykernel)",
   "language": "python",
   "name": "python3"
  },
  "language_info": {
   "codemirror_mode": {
    "name": "ipython",
    "version": 3
   },
   "file_extension": ".py",
   "mimetype": "text/x-python",
   "name": "python",
   "nbconvert_exporter": "python",
   "pygments_lexer": "ipython3",
   "version": "3.9.7"
  }
 },
 "nbformat": 4,
 "nbformat_minor": 5
}
